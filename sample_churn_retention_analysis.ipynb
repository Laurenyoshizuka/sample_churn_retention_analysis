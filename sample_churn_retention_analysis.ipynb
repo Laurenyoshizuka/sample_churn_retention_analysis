{
  "nbformat": 4,
  "nbformat_minor": 0,
  "metadata": {
    "colab": {
      "provenance": [],
      "authorship_tag": "ABX9TyMIyejXFUPRVv86CBtxkAJg",
      "include_colab_link": true
    },
    "kernelspec": {
      "name": "python3",
      "display_name": "Python 3"
    },
    "language_info": {
      "name": "python"
    }
  },
  "cells": [
    {
      "cell_type": "markdown",
      "metadata": {
        "id": "view-in-github",
        "colab_type": "text"
      },
      "source": [
        "<a href=\"https://colab.research.google.com/github/Laurenyoshizuka/sample_churn_retention_analysis/blob/main/sample_churn_retention_analysis.ipynb\" target=\"_parent\"><img src=\"https://colab.research.google.com/assets/colab-badge.svg\" alt=\"Open In Colab\"/></a>"
      ]
    },
    {
      "cell_type": "code",
      "execution_count": 223,
      "metadata": {
        "id": "Yb7ozKf56Vzm"
      },
      "outputs": [],
      "source": [
        "import pandas as pd\n",
        "import os\n",
        "import sqlite3\n",
        "import plotly.graph_objects as go\n",
        "import plotly.express as px\n",
        "from plotly.subplots import make_subplots"
      ]
    },
    {
      "cell_type": "markdown",
      "source": [
        "# Data loading and DB creation"
      ],
      "metadata": {
        "id": "Uc6e0Azj7DWy"
      }
    },
    {
      "cell_type": "code",
      "source": [
        "!git clone https://github.com/Laurenyoshizuka/sample_churn_retention_analysis.git"
      ],
      "metadata": {
        "id": "aWCiPK238iff"
      },
      "execution_count": null,
      "outputs": []
    },
    {
      "cell_type": "code",
      "source": [
        "os.chdir('/content/sample_churn_retention_analysis')\n",
        "\n",
        "cust_rev_mon = pd.read_csv('/content/sample_churn_retention_analysis/customer_revenue_monthly.csv', parse_dates=['MONTH'])\n",
        "dim_cust = pd.read_csv('/content/sample_churn_retention_analysis/dim_customer.csv')\n",
        "dim_serv = pd.read_csv('/content/sample_churn_retention_analysis/dim_service.csv')"
      ],
      "metadata": {
        "id": "BLaaErT97JQb"
      },
      "execution_count": 98,
      "outputs": []
    },
    {
      "cell_type": "code",
      "source": [
        "conn = sqlite3.connect(':memory:')\n",
        "\n",
        "cust_rev_mon.to_sql('cust_rev_mon', conn, index=False, if_exists='replace')\n",
        "dim_cust.to_sql('dim_cust', conn, index=False, if_exists='replace')\n",
        "dim_serv.to_sql('dim_serv', conn, index=False, if_exists='replace')"
      ],
      "metadata": {
        "colab": {
          "base_uri": "https://localhost:8080/"
        },
        "id": "FLn9U5EM8Xdj",
        "outputId": "923d35e3-7cd9-412b-eb69-0535ea39f98d"
      },
      "execution_count": 99,
      "outputs": [
        {
          "output_type": "execute_result",
          "data": {
            "text/plain": [
              "5"
            ]
          },
          "metadata": {},
          "execution_count": 99
        }
      ]
    },
    {
      "cell_type": "markdown",
      "source": [
        "# Quick overview of the csv data before starting analysis"
      ],
      "metadata": {
        "id": "fDVqy7cB9YYC"
      }
    },
    {
      "cell_type": "code",
      "source": [
        "def overview_of_dataframes(df1, df2, df3, name1='Customer Revenue Monthly Table', name2='Customer Dimension Table', name3='Service Dimension Table'):\n",
        "    \"\"\"\n",
        "    Provides an overview of three DataFrames\n",
        "\n",
        "    Parameters:\n",
        "    df1, df2, df3 (pd.DataFrame): DataFrames to be summarized\n",
        "    name1, name2, name3 (str): Optional names for the DataFrames for better readibility\n",
        "\n",
        "    Returns:\n",
        "    None\n",
        "    \"\"\"\n",
        "    dataframes = [df1, df2, df3]\n",
        "    names = [name1, name2, name3]\n",
        "\n",
        "    for df, name in zip(dataframes, names):\n",
        "        print(f\"--- {name} ---\")\n",
        "        print(f\"Shape: {df.shape}\")\n",
        "        print(f\"Columns: {df.columns.tolist()}\")\n",
        "        print(\"Data Types:\")\n",
        "        print(df.dtypes)\n",
        "        print(\"\\nFirst 5 Rows:\")\n",
        "        print(df.head())\n",
        "        print(\"\\nSummary Statistics:\")\n",
        "        print(df.describe(include='all'))\n",
        "        print(\"\\nMissing Values:\")\n",
        "        print(df.isnull().sum())\n",
        "\n",
        "        # Check for duplicates in month and customer_id since customers can have multiple services\n",
        "        if name == name1:\n",
        "            duplicate_count = df.duplicated(subset=['MONTH', 'CUSTOMER_ID']).sum()\n",
        "            print(f\"\\nNumber of duplicate rows based on MONTH and CUSTOMER_ID: {duplicate_count}\")\n",
        "\n",
        "            if duplicate_count > 0:\n",
        "                print(\"\\nSample of duplicate rows:\")\n",
        "                duplicates = df[df.duplicated(subset=['MONTH', 'CUSTOMER_ID'], keep=False)]\n",
        "                print(duplicates.head())\n",
        "\n",
        "        print(\"\\n\" + \"=\"*50 + \"\\n\")\n",
        "\n",
        "\n",
        "overview_of_dataframes(cust_rev_mon, dim_cust, dim_serv, 'Customer Revenue Monthly', 'Dimension Customer', 'Dimension Service')"
      ],
      "metadata": {
        "colab": {
          "base_uri": "https://localhost:8080/"
        },
        "id": "gLi5BW649iNm",
        "outputId": "8baa309c-7b4b-49d3-c8ac-1b6c66c2871a"
      },
      "execution_count": 75,
      "outputs": [
        {
          "output_type": "stream",
          "name": "stdout",
          "text": [
            "--- Customer Revenue Monthly ---\n",
            "Shape: (99393, 5)\n",
            "Columns: ['MONTH', 'CUSTOMER_ID', 'SERVICE_ID', 'CONTRACTS', 'TOTAL_SAAS_REVENUE_USD']\n",
            "Data Types:\n",
            "MONTH                     datetime64[ns]\n",
            "CUSTOMER_ID                        int64\n",
            "SERVICE_ID                         int64\n",
            "CONTRACTS                          int64\n",
            "TOTAL_SAAS_REVENUE_USD           float64\n",
            "dtype: object\n",
            "\n",
            "First 5 Rows:\n",
            "       MONTH  CUSTOMER_ID  SERVICE_ID  CONTRACTS  TOTAL_SAAS_REVENUE_USD\n",
            "0 2023-10-01       199072          28         62                  6510.0\n",
            "1 2023-12-01       473284          28          9                  1323.0\n",
            "2 2023-11-01       180824          28          9                  1323.0\n",
            "3 2023-12-01       174840          28         64                  9408.0\n",
            "4 2023-09-01       158752          28         58                 10266.0\n",
            "\n",
            "Summary Statistics:\n",
            "                               MONTH    CUSTOMER_ID    SERVICE_ID  \\\n",
            "count                          99393   99393.000000  99393.000000   \n",
            "mean   2023-09-17 04:04:45.557332736  182026.240922     20.060537   \n",
            "min              2023-07-01 00:00:00   14184.000000      5.000000   \n",
            "25%              2023-08-01 00:00:00  120172.000000      9.000000   \n",
            "50%              2023-10-01 00:00:00  180824.000000     28.000000   \n",
            "75%              2023-11-01 00:00:00  251476.000000     28.000000   \n",
            "max              2023-12-01 00:00:00  572112.000000     36.000000   \n",
            "std                              NaN  102213.255066      9.873248   \n",
            "\n",
            "          CONTRACTS  TOTAL_SAAS_REVENUE_USD  \n",
            "count  99393.000000            99393.000000  \n",
            "mean       6.209834             2900.838490  \n",
            "min        0.000000                0.000000  \n",
            "25%        1.000000              210.000000  \n",
            "50%        2.000000             1196.700000  \n",
            "75%        5.000000             2499.000000  \n",
            "max     1006.000000           654851.145000  \n",
            "std       17.619190             8733.057072  \n",
            "\n",
            "Missing Values:\n",
            "MONTH                     0\n",
            "CUSTOMER_ID               0\n",
            "SERVICE_ID                0\n",
            "CONTRACTS                 0\n",
            "TOTAL_SAAS_REVENUE_USD    0\n",
            "dtype: int64\n",
            "\n",
            "Number of duplicate rows based on MONTH and CUSTOMER_ID: 16802\n",
            "\n",
            "Sample of duplicate rows:\n",
            "        MONTH  CUSTOMER_ID  SERVICE_ID  CONTRACTS  TOTAL_SAAS_REVENUE_USD\n",
            "3  2023-12-01       174840          28         64                  9408.0\n",
            "7  2023-11-01       158108          28          6                   882.0\n",
            "11 2023-11-01       174296          28         10                  1470.0\n",
            "13 2023-08-01        17684          28         32                  2400.0\n",
            "22 2023-08-01       132380          28        104                  9048.0\n",
            "\n",
            "==================================================\n",
            "\n",
            "--- Dimension Customer ---\n",
            "Shape: (18840, 3)\n",
            "Columns: ['CUSTOMER_ID', 'COUNTRY', 'REGION']\n",
            "Data Types:\n",
            "CUSTOMER_ID     int64\n",
            "COUNTRY        object\n",
            "REGION         object\n",
            "dtype: object\n",
            "\n",
            "First 5 Rows:\n",
            "   CUSTOMER_ID        COUNTRY REGION\n",
            "0        32364  United States    AMS\n",
            "1       274348   South Africa   EMEA\n",
            "2       241828          Malta   EMEA\n",
            "3       183392  United States    AMS\n",
            "4       214276      Australia   APAC\n",
            "\n",
            "Summary Statistics:\n",
            "          CUSTOMER_ID        COUNTRY REGION\n",
            "count    18840.000000          18373  18373\n",
            "unique            NaN            139      4\n",
            "top               NaN  United States    AMS\n",
            "freq              NaN           8857  11116\n",
            "mean    211802.799363            NaN    NaN\n",
            "std     116542.704775            NaN    NaN\n",
            "min      14184.000000            NaN    NaN\n",
            "25%     136807.000000            NaN    NaN\n",
            "50%     204226.000000            NaN    NaN\n",
            "75%     284774.000000            NaN    NaN\n",
            "max     572112.000000            NaN    NaN\n",
            "\n",
            "Missing Values:\n",
            "CUSTOMER_ID      0\n",
            "COUNTRY        467\n",
            "REGION         467\n",
            "dtype: int64\n",
            "\n",
            "==================================================\n",
            "\n",
            "--- Dimension Service ---\n",
            "Shape: (5, 4)\n",
            "Columns: ['ID', 'NAME', 'BUSINESS_UNIT', 'STANDARD_MONTHLY_FEE']\n",
            "Data Types:\n",
            "ID                       int64\n",
            "NAME                    object\n",
            "BUSINESS_UNIT           object\n",
            "STANDARD_MONTHLY_FEE     int64\n",
            "dtype: object\n",
            "\n",
            "First 5 Rows:\n",
            "   ID NAME BUSINESS_UNIT  STANDARD_MONTHLY_FEE\n",
            "0   5  SHD    Contractor                   975\n",
            "1   9  EOR           EOR                  1797\n",
            "2  28   IC    Contractor                   147\n",
            "3  34   PR    Contractor                   150\n",
            "4  36   GP       Payroll                   960\n",
            "\n",
            "Summary Statistics:\n",
            "               ID NAME BUSINESS_UNIT  STANDARD_MONTHLY_FEE\n",
            "count    5.000000    5             5              5.000000\n",
            "unique        NaN    5             3                   NaN\n",
            "top           NaN  SHD    Contractor                   NaN\n",
            "freq          NaN    1             3                   NaN\n",
            "mean    22.400000  NaN           NaN            805.800000\n",
            "std     14.432602  NaN           NaN            689.016473\n",
            "min      5.000000  NaN           NaN            147.000000\n",
            "25%      9.000000  NaN           NaN            150.000000\n",
            "50%     28.000000  NaN           NaN            960.000000\n",
            "75%     34.000000  NaN           NaN            975.000000\n",
            "max     36.000000  NaN           NaN           1797.000000\n",
            "\n",
            "Missing Values:\n",
            "ID                      0\n",
            "NAME                    0\n",
            "BUSINESS_UNIT           0\n",
            "STANDARD_MONTHLY_FEE    0\n",
            "dtype: int64\n",
            "\n",
            "==================================================\n",
            "\n"
          ]
        }
      ]
    },
    {
      "cell_type": "markdown",
      "source": [
        "# SQL (as opposed to pandas) is used to explore the data, as per requested in the home exercise guidelines."
      ],
      "metadata": {
        "id": "FMNBSItPASbt"
      }
    },
    {
      "cell_type": "markdown",
      "source": [
        "#### Task 1: SQL Query - Churn Rate Analysis\n",
        "Write a SQL query to calculate the monthly churn rate for the past year.\n",
        "\n",
        "$$\n",
        "\\text{Monthly Churn Rate} = \\left( \\frac{\\text{Number of customers lost during the month}}{\\text{Number of active customers in the previous month}} \\right) \\times 100\n",
        "$$\n",
        "\n",
        "* *Number of customers lost during month* : customers with 0 contracts in the month\n",
        "\n",
        "* *Number of active customers in the previous month* : distinct count of customers having >= 1 contract in previous month"
      ],
      "metadata": {
        "id": "6sI5k95zAoD3"
      }
    },
    {
      "cell_type": "code",
      "source": [
        "cursor = conn.cursor()\n",
        "\n",
        "query = '''\n",
        "WITH monthly_data AS (\n",
        "    SELECT\n",
        "        month\n",
        "        ,customer_id\n",
        "        ,total_contracts\n",
        "        ,LAG(month, 1) OVER (PARTITION BY customer_id ORDER BY month) AS prev_month\n",
        "        ,LAG(total_contracts, 1) OVER (PARTITION BY customer_id ORDER BY month) AS prev_total_contracts\n",
        "    FROM (\n",
        "          SELECT\n",
        "              month\n",
        "              ,customer_id\n",
        "              ,SUM(contracts) AS total_contracts\n",
        "          FROM\n",
        "              cust_rev_mon\n",
        "          GROUP BY\n",
        "              month\n",
        "              ,customer_id\n",
        "    ) subquery\n",
        ")\n",
        "\n",
        "-- Main query to calculate lost and active customers\n",
        "SELECT\n",
        "    month\n",
        "    ,COUNT(DISTINCT CASE WHEN total_contracts = 0 THEN customer_id END) AS lost_customers_count\n",
        "    ,COUNT(DISTINCT CASE WHEN prev_total_contracts >= 1 THEN customer_id END) AS active_customers_count\n",
        "    ,CASE\n",
        "        WHEN COUNT(DISTINCT CASE WHEN prev_total_contracts >= 1 THEN customer_id END) > 0\n",
        "        THEN (COUNT(DISTINCT CASE WHEN total_contracts = 0 THEN customer_id END) * 100.0 /\n",
        "              COUNT(DISTINCT CASE WHEN prev_total_contracts >= 1 THEN customer_id END))\n",
        "        ELSE NULL\n",
        "    END AS churn_rate\n",
        "FROM\n",
        "    monthly_data\n",
        "WHERE\n",
        "    prev_month IS NOT NULL  -- omit july for churn calculation since no data from june to calculate active customers count\n",
        "GROUP BY\n",
        "    month\n",
        "ORDER BY\n",
        "    month\n",
        "'''\n",
        "\n",
        "cursor.execute(query)\n",
        "rows = cursor.fetchall()\n",
        "\n",
        "churn = pd.DataFrame(rows, columns=[desc[0] for desc in cursor.description])\n",
        "print(churn)"
      ],
      "metadata": {
        "colab": {
          "base_uri": "https://localhost:8080/"
        },
        "id": "XNnGH9XIaXUW",
        "outputId": "cca023e1-41f0-4b1e-f5ac-4cc3101591c4"
      },
      "execution_count": 230,
      "outputs": [
        {
          "output_type": "stream",
          "name": "stdout",
          "text": [
            "                 month  lost_customers_count  active_customers_count  \\\n",
            "0  2023-08-01 00:00:00                    18                   12259   \n",
            "1  2023-09-01 00:00:00                    25                   12667   \n",
            "2  2023-10-01 00:00:00                    29                   13157   \n",
            "3  2023-11-01 00:00:00                    33                   13452   \n",
            "4  2023-12-01 00:00:00                    44                   13719   \n",
            "\n",
            "   churn_rate  \n",
            "0    0.146831  \n",
            "1    0.197363  \n",
            "2    0.220415  \n",
            "3    0.245317  \n",
            "4    0.320723  \n"
          ]
        }
      ]
    },
    {
      "cell_type": "markdown",
      "source": [
        "Checking in pandas"
      ],
      "metadata": {
        "id": "_bFtszI02BaS"
      }
    },
    {
      "cell_type": "code",
      "source": [
        "monthly_data = cust_rev_mon.groupby(['MONTH', 'CUSTOMER_ID'])['CONTRACTS'].sum().reset_index()\n",
        "monthly_data.rename(columns={'CONTRACTS': 'total_contracts'}, inplace=True)\n",
        "monthly_data['prev_month'] = monthly_data.groupby('CUSTOMER_ID')['MONTH'].shift(1)\n",
        "monthly_data['prev_total_contracts'] = monthly_data.groupby('CUSTOMER_ID')['total_contracts'].shift(1)\n",
        "monthly_data = monthly_data.dropna(subset=['prev_month'])\n",
        "\n",
        "lost_customers = monthly_data[monthly_data['total_contracts'] == 0]\n",
        "lost_customers_count = lost_customers.groupby('MONTH')['CUSTOMER_ID'].nunique().reset_index()\n",
        "lost_customers_count.rename(columns={'CUSTOMER_ID': 'lost_customers_count'}, inplace=True)\n",
        "\n",
        "active_customers_prev_month = monthly_data[monthly_data['prev_total_contracts'] >= 1]\n",
        "active_customers_count = active_customers_prev_month.groupby('MONTH')['CUSTOMER_ID'].nunique().reset_index()\n",
        "active_customers_count.rename(columns={'CUSTOMER_ID': 'active_customers_count'}, inplace=True)\n",
        "\n",
        "churn_data = pd.merge(lost_customers_count, active_customers_count, on='MONTH', how='left')\n",
        "churn_data['churn_rate'] = (churn_data['lost_customers_count'] / churn_data['active_customers_count']) * 100\n",
        "churn_data = churn_data.sort_values('MONTH')\n",
        "print(churn_data)"
      ],
      "metadata": {
        "colab": {
          "base_uri": "https://localhost:8080/"
        },
        "id": "hY7dhU26DIIz",
        "outputId": "0bbca50a-83d7-4b37-b9be-a982af6b4d06"
      },
      "execution_count": 213,
      "outputs": [
        {
          "output_type": "stream",
          "name": "stdout",
          "text": [
            "       MONTH  lost_customers_count  active_customers_count  churn_rate\n",
            "0 2023-08-01                    18                   12259    0.146831\n",
            "1 2023-09-01                    25                   12667    0.197363\n",
            "2 2023-10-01                    29                   13157    0.220415\n",
            "3 2023-11-01                    33                   13452    0.245317\n",
            "4 2023-12-01                    44                   13719    0.320723\n"
          ]
        }
      ]
    },
    {
      "cell_type": "markdown",
      "source": [
        "*Although there's an upward trend in lost customers, we're not looking at which services are losing customers...*"
      ],
      "metadata": {
        "id": "EYjo1_Ln5yfu"
      }
    },
    {
      "cell_type": "code",
      "source": [
        "cursor = conn.cursor()\n",
        "\n",
        "query = '''\n",
        "WITH monthly_data AS (\n",
        "    SELECT\n",
        "        month\n",
        "        ,customer_id\n",
        "        ,name\n",
        "        ,total_contracts\n",
        "        ,LAG(month, 1) OVER (PARTITION BY customer_id, name ORDER BY month) AS prev_month\n",
        "        ,LAG(total_contracts, 1) OVER (PARTITION BY customer_id, name ORDER BY month) AS prev_total_contracts\n",
        "    FROM (\n",
        "        SELECT\n",
        "            month\n",
        "            ,customer_id\n",
        "            ,name\n",
        "            ,SUM(contracts) AS total_contracts\n",
        "        FROM\n",
        "            cust_rev_mon r\n",
        "        LEFT JOIN\n",
        "            dim_serv s\n",
        "        ON\n",
        "            r.service_id = s.id\n",
        "        GROUP BY\n",
        "            month\n",
        "            ,customer_id\n",
        "            ,name\n",
        "    ) subquery\n",
        ")\n",
        "\n",
        "-- Main query to calculate lost and active customers by service name\n",
        "SELECT\n",
        "    month\n",
        "    ,name\n",
        "    ,COUNT(DISTINCT CASE WHEN total_contracts = 0 THEN customer_id END) AS lost_customers_count\n",
        "    ,COUNT(DISTINCT CASE WHEN prev_total_contracts >= 1 THEN customer_id END) AS active_customers_count\n",
        "    ,CASE\n",
        "        WHEN COUNT(DISTINCT CASE WHEN prev_total_contracts >= 1 THEN customer_id END) > 0\n",
        "        THEN (COUNT(DISTINCT CASE WHEN total_contracts = 0 THEN customer_id END) * 100.0 /\n",
        "              COUNT(DISTINCT CASE WHEN prev_total_contracts >= 1 THEN customer_id END))\n",
        "        ELSE NULL\n",
        "    END AS churn_rate\n",
        "FROM\n",
        "    monthly_data\n",
        "WHERE\n",
        "    prev_month IS NOT NULL  -- omit data with no previous month for churn calculation\n",
        "GROUP BY\n",
        "    month\n",
        "    ,name\n",
        "ORDER BY\n",
        "    month\n",
        "    ,name\n",
        "'''\n",
        "\n",
        "cursor.execute(query)\n",
        "rows = cursor.fetchall()\n",
        "\n",
        "churn_by_service = pd.DataFrame(rows, columns=[desc[0] for desc in cursor.description])\n",
        "print(churn_by_service)"
      ],
      "metadata": {
        "colab": {
          "base_uri": "https://localhost:8080/"
        },
        "id": "PgtzuQn36O3t",
        "outputId": "8d693206-7217-4e8b-a7af-9caf43e6b380"
      },
      "execution_count": 249,
      "outputs": [
        {
          "output_type": "stream",
          "name": "stdout",
          "text": [
            "                  month name  lost_customers_count  active_customers_count  \\\n",
            "0   2023-08-01 00:00:00  EOR                     0                    5913   \n",
            "1   2023-08-01 00:00:00   IC                    16                    7814   \n",
            "2   2023-08-01 00:00:00   PR                     0                     691   \n",
            "3   2023-08-01 00:00:00  SHD                     0                     366   \n",
            "4   2023-09-01 00:00:00  EOR                     0                    6082   \n",
            "5   2023-09-01 00:00:00   IC                    23                    8066   \n",
            "6   2023-09-01 00:00:00   PR                     0                     686   \n",
            "7   2023-09-01 00:00:00  SHD                     0                     432   \n",
            "8   2023-10-01 00:00:00  EOR                     0                    6353   \n",
            "9   2023-10-01 00:00:00   GP                     0                       1   \n",
            "10  2023-10-01 00:00:00   IC                    26                    8274   \n",
            "11  2023-10-01 00:00:00   PR                     0                     681   \n",
            "12  2023-10-01 00:00:00  SHD                     1                     463   \n",
            "13  2023-11-01 00:00:00  EOR                     0                    6511   \n",
            "14  2023-11-01 00:00:00   GP                     0                       2   \n",
            "15  2023-11-01 00:00:00   IC                    30                    8171   \n",
            "16  2023-11-01 00:00:00   PR                     1                     693   \n",
            "17  2023-11-01 00:00:00  SHD                     3                     487   \n",
            "18  2023-12-01 00:00:00  EOR                     0                    6687   \n",
            "19  2023-12-01 00:00:00   GP                     1                       3   \n",
            "20  2023-12-01 00:00:00   IC                    38                    8188   \n",
            "21  2023-12-01 00:00:00   PR                     2                     704   \n",
            "22  2023-12-01 00:00:00  SHD                     2                     527   \n",
            "\n",
            "    churn_rate  \n",
            "0     0.000000  \n",
            "1     0.204761  \n",
            "2     0.000000  \n",
            "3     0.000000  \n",
            "4     0.000000  \n",
            "5     0.285148  \n",
            "6     0.000000  \n",
            "7     0.000000  \n",
            "8     0.000000  \n",
            "9     0.000000  \n",
            "10    0.314237  \n",
            "11    0.000000  \n",
            "12    0.215983  \n",
            "13    0.000000  \n",
            "14    0.000000  \n",
            "15    0.367152  \n",
            "16    0.144300  \n",
            "17    0.616016  \n",
            "18    0.000000  \n",
            "19   33.333333  \n",
            "20    0.464094  \n",
            "21    0.284091  \n",
            "22    0.379507  \n"
          ]
        }
      ]
    },
    {
      "cell_type": "markdown",
      "source": [
        "*Or which regions are losing customers,,,*"
      ],
      "metadata": {
        "id": "l2tomIPp_wC4"
      }
    },
    {
      "cell_type": "code",
      "source": [
        "cursor = conn.cursor()\n",
        "\n",
        "query = '''\n",
        "WITH monthly_data AS (\n",
        "    SELECT\n",
        "        month\n",
        "        ,customer_id\n",
        "        ,region\n",
        "        ,total_contracts\n",
        "        ,LAG(month, 1) OVER (PARTITION BY customer_id, region ORDER BY month) AS prev_month\n",
        "        ,LAG(total_contracts, 1) OVER (PARTITION BY customer_id, region ORDER BY month) AS prev_total_contracts\n",
        "    FROM (\n",
        "        SELECT\n",
        "            month\n",
        "            ,r.customer_id\n",
        "            ,region\n",
        "            ,SUM(contracts) AS total_contracts\n",
        "        FROM\n",
        "            cust_rev_mon r\n",
        "        LEFT JOIN\n",
        "            dim_cust c\n",
        "        ON\n",
        "            r.customer_id = c.customer_id\n",
        "        GROUP BY\n",
        "            month\n",
        "            ,r.customer_id\n",
        "            ,region\n",
        "    ) subquery\n",
        ")\n",
        "\n",
        "-- Main query to calculate lost and active customers by region\n",
        "SELECT\n",
        "    month\n",
        "    ,region\n",
        "    ,COUNT(DISTINCT CASE WHEN total_contracts = 0 THEN customer_id END) AS lost_customers_count\n",
        "    ,COUNT(DISTINCT CASE WHEN prev_total_contracts >= 1 THEN customer_id END) AS active_customers_count\n",
        "    ,CASE\n",
        "        WHEN COUNT(DISTINCT CASE WHEN prev_total_contracts >= 1 THEN customer_id END) > 0\n",
        "        THEN (COUNT(DISTINCT CASE WHEN total_contracts = 0 THEN customer_id END) * 100.0 /\n",
        "              COUNT(DISTINCT CASE WHEN prev_total_contracts >= 1 THEN customer_id END))\n",
        "        ELSE NULL\n",
        "    END AS churn_rate\n",
        "FROM\n",
        "    monthly_data\n",
        "WHERE\n",
        "    prev_month IS NOT NULL  -- omit data with no previous month for churn calculation\n",
        "GROUP BY\n",
        "    month\n",
        "    ,region\n",
        "ORDER BY\n",
        "    month\n",
        "    ,region\n",
        "'''\n",
        "\n",
        "cursor.execute(query)\n",
        "rows = cursor.fetchall()\n",
        "\n",
        "churn_by_region = pd.DataFrame(rows, columns=[desc[0] for desc in cursor.description])\n",
        "print(churn_by_region)"
      ],
      "metadata": {
        "colab": {
          "base_uri": "https://localhost:8080/"
        },
        "id": "ZFbh7n6c_1yj",
        "outputId": "66007c43-b232-415d-9379-946b8aac3ae1"
      },
      "execution_count": 256,
      "outputs": [
        {
          "output_type": "stream",
          "name": "stdout",
          "text": [
            "                  month  region  lost_customers_count  active_customers_count  \\\n",
            "0   2023-08-01 00:00:00    None                     1                     193   \n",
            "1   2023-08-01 00:00:00     AMS                    10                    7400   \n",
            "2   2023-08-01 00:00:00    APAC                     3                     847   \n",
            "3   2023-08-01 00:00:00  BRAZIL                     0                     104   \n",
            "4   2023-08-01 00:00:00    EMEA                     4                    3715   \n",
            "5   2023-09-01 00:00:00    None                     2                     201   \n",
            "6   2023-09-01 00:00:00     AMS                    12                    7628   \n",
            "7   2023-09-01 00:00:00    APAC                     2                     883   \n",
            "8   2023-09-01 00:00:00  BRAZIL                     0                     103   \n",
            "9   2023-09-01 00:00:00    EMEA                     9                    3852   \n",
            "10  2023-10-01 00:00:00    None                     1                     214   \n",
            "11  2023-10-01 00:00:00     AMS                    19                    7883   \n",
            "12  2023-10-01 00:00:00    APAC                     2                     927   \n",
            "13  2023-10-01 00:00:00  BRAZIL                     0                     106   \n",
            "14  2023-10-01 00:00:00    EMEA                     7                    4027   \n",
            "15  2023-11-01 00:00:00    None                     0                     216   \n",
            "16  2023-11-01 00:00:00     AMS                    16                    8041   \n",
            "17  2023-11-01 00:00:00    APAC                     2                     963   \n",
            "18  2023-11-01 00:00:00  BRAZIL                     1                     110   \n",
            "19  2023-11-01 00:00:00    EMEA                    14                    4122   \n",
            "20  2023-12-01 00:00:00    None                     4                     233   \n",
            "21  2023-12-01 00:00:00     AMS                    23                    8202   \n",
            "22  2023-12-01 00:00:00    APAC                     2                     974   \n",
            "23  2023-12-01 00:00:00  BRAZIL                     0                     108   \n",
            "24  2023-12-01 00:00:00    EMEA                    15                    4202   \n",
            "\n",
            "    churn_rate  \n",
            "0     0.518135  \n",
            "1     0.135135  \n",
            "2     0.354191  \n",
            "3     0.000000  \n",
            "4     0.107672  \n",
            "5     0.995025  \n",
            "6     0.157315  \n",
            "7     0.226501  \n",
            "8     0.000000  \n",
            "9     0.233645  \n",
            "10    0.467290  \n",
            "11    0.241025  \n",
            "12    0.215750  \n",
            "13    0.000000  \n",
            "14    0.173827  \n",
            "15    0.000000  \n",
            "16    0.198980  \n",
            "17    0.207684  \n",
            "18    0.909091  \n",
            "19    0.339641  \n",
            "20    1.716738  \n",
            "21    0.280419  \n",
            "22    0.205339  \n",
            "23    0.000000  \n",
            "24    0.356973  \n"
          ]
        }
      ]
    },
    {
      "cell_type": "code",
      "source": [
        "cursor = conn.cursor()\n",
        "\n",
        "query = '''\n",
        "WITH monthly_data AS (\n",
        "    SELECT\n",
        "        month\n",
        "        ,customer_id\n",
        "        ,region\n",
        "        ,name\n",
        "        ,total_contracts\n",
        "        ,LAG(month, 1) OVER (PARTITION BY customer_id, region, name ORDER BY month) AS prev_month\n",
        "        ,LAG(total_contracts, 1) OVER (PARTITION BY customer_id, region, name ORDER BY month) AS prev_total_contracts\n",
        "    FROM (\n",
        "        SELECT\n",
        "            month\n",
        "            ,r.customer_id\n",
        "            ,region\n",
        "            ,name\n",
        "            ,SUM(contracts) AS total_contracts\n",
        "        FROM\n",
        "            cust_rev_mon r\n",
        "        LEFT JOIN\n",
        "            dim_cust c\n",
        "        ON\n",
        "            r.customer_id = c.customer_id\n",
        "        LEFT JOIN\n",
        "            dim_serv s\n",
        "        ON\n",
        "            r.service_id = s.id\n",
        "        GROUP BY\n",
        "            month\n",
        "            ,r.customer_id\n",
        "            ,region\n",
        "            ,name\n",
        "    ) subquery\n",
        ")\n",
        "\n",
        "-- Main query to calculate lost and active customers by region\n",
        "SELECT\n",
        "    month\n",
        "    ,region\n",
        "    ,name\n",
        "    ,COUNT(DISTINCT CASE WHEN total_contracts = 0 THEN customer_id END) AS lost_customers_count\n",
        "    ,COUNT(DISTINCT CASE WHEN prev_total_contracts >= 1 THEN customer_id END) AS active_customers_count\n",
        "    ,CASE\n",
        "        WHEN COUNT(DISTINCT CASE WHEN prev_total_contracts >= 1 THEN customer_id END) > 0\n",
        "        THEN (COUNT(DISTINCT CASE WHEN total_contracts = 0 THEN customer_id END) * 100.0 /\n",
        "              COUNT(DISTINCT CASE WHEN prev_total_contracts >= 1 THEN customer_id END))\n",
        "        ELSE NULL\n",
        "    END AS churn_rate\n",
        "FROM\n",
        "    monthly_data\n",
        "WHERE\n",
        "    prev_month IS NOT NULL  -- omit data with no previous month for churn calculation\n",
        "GROUP BY\n",
        "    month\n",
        "    ,region\n",
        "    ,name\n",
        "ORDER BY\n",
        "    month\n",
        "    ,region\n",
        "    ,name\n",
        "'''\n",
        "\n",
        "cursor.execute(query)\n",
        "rows = cursor.fetchall()\n",
        "\n",
        "churn_by_regional_service = pd.DataFrame(rows, columns=[desc[0] for desc in cursor.description])\n",
        "print(churn_by_regional_service)"
      ],
      "metadata": {
        "colab": {
          "base_uri": "https://localhost:8080/"
        },
        "id": "x7lrafNFCBWy",
        "outputId": "b9725ed8-8108-49ef-f7c2-26499ce1ea47"
      },
      "execution_count": 259,
      "outputs": [
        {
          "output_type": "stream",
          "name": "stdout",
          "text": [
            "                   month region name  lost_customers_count  \\\n",
            "0    2023-08-01 00:00:00   None  EOR                     0   \n",
            "1    2023-08-01 00:00:00   None   IC                     1   \n",
            "2    2023-08-01 00:00:00   None   PR                     0   \n",
            "3    2023-08-01 00:00:00   None  SHD                     0   \n",
            "4    2023-08-01 00:00:00    AMS  EOR                     0   \n",
            "..                   ...    ...  ...                   ...   \n",
            "101  2023-12-01 00:00:00   EMEA  EOR                     0   \n",
            "102  2023-12-01 00:00:00   EMEA   GP                     0   \n",
            "103  2023-12-01 00:00:00   EMEA   IC                    12   \n",
            "104  2023-12-01 00:00:00   EMEA   PR                     1   \n",
            "105  2023-12-01 00:00:00   EMEA  SHD                     2   \n",
            "\n",
            "     active_customers_count  churn_rate  \n",
            "0                        56    0.000000  \n",
            "1                       154    0.649351  \n",
            "2                         8    0.000000  \n",
            "3                         7    0.000000  \n",
            "4                      2959    0.000000  \n",
            "..                      ...         ...  \n",
            "101                    2703    0.000000  \n",
            "102                       1    0.000000  \n",
            "103                    1900    0.631579  \n",
            "104                     177    0.564972  \n",
            "105                      97    2.061856  \n",
            "\n",
            "[106 rows x 6 columns]\n"
          ]
        }
      ]
    },
    {
      "cell_type": "markdown",
      "source": [
        "Generating some graphs for EDA and data storytelling."
      ],
      "metadata": {
        "id": "QBuMpPye6Zax"
      }
    },
    {
      "cell_type": "code",
      "source": [
        "fig = make_subplots(\n",
        "    rows=3, cols=1, shared_xaxes=True,\n",
        "    subplot_titles=('Lost Customers Over Time',\n",
        "                    'Active Customers Over Time',\n",
        "                    'Churn Rate Over Time')\n",
        ")\n",
        "fig.add_trace(\n",
        "    go.Scatter(\n",
        "        x=churn_data['MONTH'],\n",
        "        y=churn_data['lost_customers_count'],\n",
        "        mode='lines+markers',\n",
        "        name='Lost Customers',\n",
        "        line=dict(color='red')\n",
        "    ),\n",
        "    row=1, col=1\n",
        ")\n",
        "fig.add_trace(\n",
        "    go.Scatter(\n",
        "        x=churn_data['MONTH'],\n",
        "        y=churn_data['active_customers_count'],\n",
        "        mode='lines+markers',\n",
        "        name='Active Customers',\n",
        "        line=dict(color='blue')\n",
        "    ),\n",
        "    row=2, col=1\n",
        ")\n",
        "fig.add_trace(\n",
        "    go.Scatter(\n",
        "        x=churn_data['MONTH'],\n",
        "        y=churn_data['churn_rate'],\n",
        "        mode='lines+markers',\n",
        "        name='Churn Rate',\n",
        "        line=dict(color='red', dash='dash')\n",
        "    ),\n",
        "    row=3, col=1\n",
        ")\n",
        "fig.update_layout(\n",
        "    height=900,\n",
        "    width=800,\n",
        "    title_text=\"Customer Metrics Over Time\"\n",
        ")\n",
        "\n",
        "fig.show()"
      ],
      "metadata": {
        "colab": {
          "base_uri": "https://localhost:8080/",
          "height": 917
        },
        "id": "6_EnlavhAxkl",
        "outputId": "5d3b4d6f-d3eb-44d8-938b-a576727ed681"
      },
      "execution_count": 224,
      "outputs": [
        {
          "output_type": "display_data",
          "data": {
            "text/html": [
              "<html>\n",
              "<head><meta charset=\"utf-8\" /></head>\n",
              "<body>\n",
              "    <div>            <script src=\"https://cdnjs.cloudflare.com/ajax/libs/mathjax/2.7.5/MathJax.js?config=TeX-AMS-MML_SVG\"></script><script type=\"text/javascript\">if (window.MathJax && window.MathJax.Hub && window.MathJax.Hub.Config) {window.MathJax.Hub.Config({SVG: {font: \"STIX-Web\"}});}</script>                <script type=\"text/javascript\">window.PlotlyConfig = {MathJaxConfig: 'local'};</script>\n",
              "        <script charset=\"utf-8\" src=\"https://cdn.plot.ly/plotly-2.24.1.min.js\"></script>                <div id=\"3fec6f89-29d7-4a3f-945a-e49bba415510\" class=\"plotly-graph-div\" style=\"height:900px; width:800px;\"></div>            <script type=\"text/javascript\">                                    window.PLOTLYENV=window.PLOTLYENV || {};                                    if (document.getElementById(\"3fec6f89-29d7-4a3f-945a-e49bba415510\")) {                    Plotly.newPlot(                        \"3fec6f89-29d7-4a3f-945a-e49bba415510\",                        [{\"line\":{\"color\":\"red\"},\"mode\":\"lines+markers\",\"name\":\"Lost Customers\",\"x\":[\"2023-08-01T00:00:00\",\"2023-09-01T00:00:00\",\"2023-10-01T00:00:00\",\"2023-11-01T00:00:00\",\"2023-12-01T00:00:00\"],\"y\":[18,25,29,33,44],\"type\":\"scatter\",\"xaxis\":\"x\",\"yaxis\":\"y\"},{\"line\":{\"color\":\"blue\"},\"mode\":\"lines+markers\",\"name\":\"Active Customers\",\"x\":[\"2023-08-01T00:00:00\",\"2023-09-01T00:00:00\",\"2023-10-01T00:00:00\",\"2023-11-01T00:00:00\",\"2023-12-01T00:00:00\"],\"y\":[12259,12667,13157,13452,13719],\"type\":\"scatter\",\"xaxis\":\"x2\",\"yaxis\":\"y2\"},{\"line\":{\"color\":\"red\",\"dash\":\"dash\"},\"mode\":\"lines+markers\",\"name\":\"Churn Rate\",\"x\":[\"2023-08-01T00:00:00\",\"2023-09-01T00:00:00\",\"2023-10-01T00:00:00\",\"2023-11-01T00:00:00\",\"2023-12-01T00:00:00\"],\"y\":[0.14683089974712454,0.19736322728349256,0.22041498821919892,0.24531668153434436,0.32072308477294265],\"type\":\"scatter\",\"xaxis\":\"x3\",\"yaxis\":\"y3\"}],                        {\"template\":{\"data\":{\"histogram2dcontour\":[{\"type\":\"histogram2dcontour\",\"colorbar\":{\"outlinewidth\":0,\"ticks\":\"\"},\"colorscale\":[[0.0,\"#0d0887\"],[0.1111111111111111,\"#46039f\"],[0.2222222222222222,\"#7201a8\"],[0.3333333333333333,\"#9c179e\"],[0.4444444444444444,\"#bd3786\"],[0.5555555555555556,\"#d8576b\"],[0.6666666666666666,\"#ed7953\"],[0.7777777777777778,\"#fb9f3a\"],[0.8888888888888888,\"#fdca26\"],[1.0,\"#f0f921\"]]}],\"choropleth\":[{\"type\":\"choropleth\",\"colorbar\":{\"outlinewidth\":0,\"ticks\":\"\"}}],\"histogram2d\":[{\"type\":\"histogram2d\",\"colorbar\":{\"outlinewidth\":0,\"ticks\":\"\"},\"colorscale\":[[0.0,\"#0d0887\"],[0.1111111111111111,\"#46039f\"],[0.2222222222222222,\"#7201a8\"],[0.3333333333333333,\"#9c179e\"],[0.4444444444444444,\"#bd3786\"],[0.5555555555555556,\"#d8576b\"],[0.6666666666666666,\"#ed7953\"],[0.7777777777777778,\"#fb9f3a\"],[0.8888888888888888,\"#fdca26\"],[1.0,\"#f0f921\"]]}],\"heatmap\":[{\"type\":\"heatmap\",\"colorbar\":{\"outlinewidth\":0,\"ticks\":\"\"},\"colorscale\":[[0.0,\"#0d0887\"],[0.1111111111111111,\"#46039f\"],[0.2222222222222222,\"#7201a8\"],[0.3333333333333333,\"#9c179e\"],[0.4444444444444444,\"#bd3786\"],[0.5555555555555556,\"#d8576b\"],[0.6666666666666666,\"#ed7953\"],[0.7777777777777778,\"#fb9f3a\"],[0.8888888888888888,\"#fdca26\"],[1.0,\"#f0f921\"]]}],\"heatmapgl\":[{\"type\":\"heatmapgl\",\"colorbar\":{\"outlinewidth\":0,\"ticks\":\"\"},\"colorscale\":[[0.0,\"#0d0887\"],[0.1111111111111111,\"#46039f\"],[0.2222222222222222,\"#7201a8\"],[0.3333333333333333,\"#9c179e\"],[0.4444444444444444,\"#bd3786\"],[0.5555555555555556,\"#d8576b\"],[0.6666666666666666,\"#ed7953\"],[0.7777777777777778,\"#fb9f3a\"],[0.8888888888888888,\"#fdca26\"],[1.0,\"#f0f921\"]]}],\"contourcarpet\":[{\"type\":\"contourcarpet\",\"colorbar\":{\"outlinewidth\":0,\"ticks\":\"\"}}],\"contour\":[{\"type\":\"contour\",\"colorbar\":{\"outlinewidth\":0,\"ticks\":\"\"},\"colorscale\":[[0.0,\"#0d0887\"],[0.1111111111111111,\"#46039f\"],[0.2222222222222222,\"#7201a8\"],[0.3333333333333333,\"#9c179e\"],[0.4444444444444444,\"#bd3786\"],[0.5555555555555556,\"#d8576b\"],[0.6666666666666666,\"#ed7953\"],[0.7777777777777778,\"#fb9f3a\"],[0.8888888888888888,\"#fdca26\"],[1.0,\"#f0f921\"]]}],\"surface\":[{\"type\":\"surface\",\"colorbar\":{\"outlinewidth\":0,\"ticks\":\"\"},\"colorscale\":[[0.0,\"#0d0887\"],[0.1111111111111111,\"#46039f\"],[0.2222222222222222,\"#7201a8\"],[0.3333333333333333,\"#9c179e\"],[0.4444444444444444,\"#bd3786\"],[0.5555555555555556,\"#d8576b\"],[0.6666666666666666,\"#ed7953\"],[0.7777777777777778,\"#fb9f3a\"],[0.8888888888888888,\"#fdca26\"],[1.0,\"#f0f921\"]]}],\"mesh3d\":[{\"type\":\"mesh3d\",\"colorbar\":{\"outlinewidth\":0,\"ticks\":\"\"}}],\"scatter\":[{\"fillpattern\":{\"fillmode\":\"overlay\",\"size\":10,\"solidity\":0.2},\"type\":\"scatter\"}],\"parcoords\":[{\"type\":\"parcoords\",\"line\":{\"colorbar\":{\"outlinewidth\":0,\"ticks\":\"\"}}}],\"scatterpolargl\":[{\"type\":\"scatterpolargl\",\"marker\":{\"colorbar\":{\"outlinewidth\":0,\"ticks\":\"\"}}}],\"bar\":[{\"error_x\":{\"color\":\"#2a3f5f\"},\"error_y\":{\"color\":\"#2a3f5f\"},\"marker\":{\"line\":{\"color\":\"#E5ECF6\",\"width\":0.5},\"pattern\":{\"fillmode\":\"overlay\",\"size\":10,\"solidity\":0.2}},\"type\":\"bar\"}],\"scattergeo\":[{\"type\":\"scattergeo\",\"marker\":{\"colorbar\":{\"outlinewidth\":0,\"ticks\":\"\"}}}],\"scatterpolar\":[{\"type\":\"scatterpolar\",\"marker\":{\"colorbar\":{\"outlinewidth\":0,\"ticks\":\"\"}}}],\"histogram\":[{\"marker\":{\"pattern\":{\"fillmode\":\"overlay\",\"size\":10,\"solidity\":0.2}},\"type\":\"histogram\"}],\"scattergl\":[{\"type\":\"scattergl\",\"marker\":{\"colorbar\":{\"outlinewidth\":0,\"ticks\":\"\"}}}],\"scatter3d\":[{\"type\":\"scatter3d\",\"line\":{\"colorbar\":{\"outlinewidth\":0,\"ticks\":\"\"}},\"marker\":{\"colorbar\":{\"outlinewidth\":0,\"ticks\":\"\"}}}],\"scattermapbox\":[{\"type\":\"scattermapbox\",\"marker\":{\"colorbar\":{\"outlinewidth\":0,\"ticks\":\"\"}}}],\"scatterternary\":[{\"type\":\"scatterternary\",\"marker\":{\"colorbar\":{\"outlinewidth\":0,\"ticks\":\"\"}}}],\"scattercarpet\":[{\"type\":\"scattercarpet\",\"marker\":{\"colorbar\":{\"outlinewidth\":0,\"ticks\":\"\"}}}],\"carpet\":[{\"aaxis\":{\"endlinecolor\":\"#2a3f5f\",\"gridcolor\":\"white\",\"linecolor\":\"white\",\"minorgridcolor\":\"white\",\"startlinecolor\":\"#2a3f5f\"},\"baxis\":{\"endlinecolor\":\"#2a3f5f\",\"gridcolor\":\"white\",\"linecolor\":\"white\",\"minorgridcolor\":\"white\",\"startlinecolor\":\"#2a3f5f\"},\"type\":\"carpet\"}],\"table\":[{\"cells\":{\"fill\":{\"color\":\"#EBF0F8\"},\"line\":{\"color\":\"white\"}},\"header\":{\"fill\":{\"color\":\"#C8D4E3\"},\"line\":{\"color\":\"white\"}},\"type\":\"table\"}],\"barpolar\":[{\"marker\":{\"line\":{\"color\":\"#E5ECF6\",\"width\":0.5},\"pattern\":{\"fillmode\":\"overlay\",\"size\":10,\"solidity\":0.2}},\"type\":\"barpolar\"}],\"pie\":[{\"automargin\":true,\"type\":\"pie\"}]},\"layout\":{\"autotypenumbers\":\"strict\",\"colorway\":[\"#636efa\",\"#EF553B\",\"#00cc96\",\"#ab63fa\",\"#FFA15A\",\"#19d3f3\",\"#FF6692\",\"#B6E880\",\"#FF97FF\",\"#FECB52\"],\"font\":{\"color\":\"#2a3f5f\"},\"hovermode\":\"closest\",\"hoverlabel\":{\"align\":\"left\"},\"paper_bgcolor\":\"white\",\"plot_bgcolor\":\"#E5ECF6\",\"polar\":{\"bgcolor\":\"#E5ECF6\",\"angularaxis\":{\"gridcolor\":\"white\",\"linecolor\":\"white\",\"ticks\":\"\"},\"radialaxis\":{\"gridcolor\":\"white\",\"linecolor\":\"white\",\"ticks\":\"\"}},\"ternary\":{\"bgcolor\":\"#E5ECF6\",\"aaxis\":{\"gridcolor\":\"white\",\"linecolor\":\"white\",\"ticks\":\"\"},\"baxis\":{\"gridcolor\":\"white\",\"linecolor\":\"white\",\"ticks\":\"\"},\"caxis\":{\"gridcolor\":\"white\",\"linecolor\":\"white\",\"ticks\":\"\"}},\"coloraxis\":{\"colorbar\":{\"outlinewidth\":0,\"ticks\":\"\"}},\"colorscale\":{\"sequential\":[[0.0,\"#0d0887\"],[0.1111111111111111,\"#46039f\"],[0.2222222222222222,\"#7201a8\"],[0.3333333333333333,\"#9c179e\"],[0.4444444444444444,\"#bd3786\"],[0.5555555555555556,\"#d8576b\"],[0.6666666666666666,\"#ed7953\"],[0.7777777777777778,\"#fb9f3a\"],[0.8888888888888888,\"#fdca26\"],[1.0,\"#f0f921\"]],\"sequentialminus\":[[0.0,\"#0d0887\"],[0.1111111111111111,\"#46039f\"],[0.2222222222222222,\"#7201a8\"],[0.3333333333333333,\"#9c179e\"],[0.4444444444444444,\"#bd3786\"],[0.5555555555555556,\"#d8576b\"],[0.6666666666666666,\"#ed7953\"],[0.7777777777777778,\"#fb9f3a\"],[0.8888888888888888,\"#fdca26\"],[1.0,\"#f0f921\"]],\"diverging\":[[0,\"#8e0152\"],[0.1,\"#c51b7d\"],[0.2,\"#de77ae\"],[0.3,\"#f1b6da\"],[0.4,\"#fde0ef\"],[0.5,\"#f7f7f7\"],[0.6,\"#e6f5d0\"],[0.7,\"#b8e186\"],[0.8,\"#7fbc41\"],[0.9,\"#4d9221\"],[1,\"#276419\"]]},\"xaxis\":{\"gridcolor\":\"white\",\"linecolor\":\"white\",\"ticks\":\"\",\"title\":{\"standoff\":15},\"zerolinecolor\":\"white\",\"automargin\":true,\"zerolinewidth\":2},\"yaxis\":{\"gridcolor\":\"white\",\"linecolor\":\"white\",\"ticks\":\"\",\"title\":{\"standoff\":15},\"zerolinecolor\":\"white\",\"automargin\":true,\"zerolinewidth\":2},\"scene\":{\"xaxis\":{\"backgroundcolor\":\"#E5ECF6\",\"gridcolor\":\"white\",\"linecolor\":\"white\",\"showbackground\":true,\"ticks\":\"\",\"zerolinecolor\":\"white\",\"gridwidth\":2},\"yaxis\":{\"backgroundcolor\":\"#E5ECF6\",\"gridcolor\":\"white\",\"linecolor\":\"white\",\"showbackground\":true,\"ticks\":\"\",\"zerolinecolor\":\"white\",\"gridwidth\":2},\"zaxis\":{\"backgroundcolor\":\"#E5ECF6\",\"gridcolor\":\"white\",\"linecolor\":\"white\",\"showbackground\":true,\"ticks\":\"\",\"zerolinecolor\":\"white\",\"gridwidth\":2}},\"shapedefaults\":{\"line\":{\"color\":\"#2a3f5f\"}},\"annotationdefaults\":{\"arrowcolor\":\"#2a3f5f\",\"arrowhead\":0,\"arrowwidth\":1},\"geo\":{\"bgcolor\":\"white\",\"landcolor\":\"#E5ECF6\",\"subunitcolor\":\"white\",\"showland\":true,\"showlakes\":true,\"lakecolor\":\"white\"},\"title\":{\"x\":0.05},\"mapbox\":{\"style\":\"light\"}}},\"xaxis\":{\"anchor\":\"y\",\"domain\":[0.0,1.0],\"matches\":\"x3\",\"showticklabels\":false},\"yaxis\":{\"anchor\":\"x\",\"domain\":[0.7777777777777778,1.0]},\"xaxis2\":{\"anchor\":\"y2\",\"domain\":[0.0,1.0],\"matches\":\"x3\",\"showticklabels\":false},\"yaxis2\":{\"anchor\":\"x2\",\"domain\":[0.3888888888888889,0.6111111111111112]},\"xaxis3\":{\"anchor\":\"y3\",\"domain\":[0.0,1.0]},\"yaxis3\":{\"anchor\":\"x3\",\"domain\":[0.0,0.22222222222222224]},\"annotations\":[{\"font\":{\"size\":16},\"showarrow\":false,\"text\":\"Lost Customers Over Time\",\"x\":0.5,\"xanchor\":\"center\",\"xref\":\"paper\",\"y\":1.0,\"yanchor\":\"bottom\",\"yref\":\"paper\"},{\"font\":{\"size\":16},\"showarrow\":false,\"text\":\"Active Customers Over Time\",\"x\":0.5,\"xanchor\":\"center\",\"xref\":\"paper\",\"y\":0.6111111111111112,\"yanchor\":\"bottom\",\"yref\":\"paper\"},{\"font\":{\"size\":16},\"showarrow\":false,\"text\":\"Churn Rate Over Time\",\"x\":0.5,\"xanchor\":\"center\",\"xref\":\"paper\",\"y\":0.22222222222222224,\"yanchor\":\"bottom\",\"yref\":\"paper\"}],\"title\":{\"text\":\"Customer Metrics Over Time\"},\"height\":900,\"width\":800},                        {\"responsive\": true}                    ).then(function(){\n",
              "                            \n",
              "var gd = document.getElementById('3fec6f89-29d7-4a3f-945a-e49bba415510');\n",
              "var x = new MutationObserver(function (mutations, observer) {{\n",
              "        var display = window.getComputedStyle(gd).display;\n",
              "        if (!display || display === 'none') {{\n",
              "            console.log([gd, 'removed!']);\n",
              "            Plotly.purge(gd);\n",
              "            observer.disconnect();\n",
              "        }}\n",
              "}});\n",
              "\n",
              "// Listen for the removal of the full notebook cells\n",
              "var notebookContainer = gd.closest('#notebook-container');\n",
              "if (notebookContainer) {{\n",
              "    x.observe(notebookContainer, {childList: true});\n",
              "}}\n",
              "\n",
              "// Listen for the clearing of the current output cell\n",
              "var outputEl = gd.closest('.output');\n",
              "if (outputEl) {{\n",
              "    x.observe(outputEl, {childList: true});\n",
              "}}\n",
              "\n",
              "                        })                };                            </script>        </div>\n",
              "</body>\n",
              "</html>"
            ]
          },
          "metadata": {}
        }
      ]
    },
    {
      "cell_type": "code",
      "source": [
        "fig = px.imshow(\n",
        "    churn_by_service.pivot(index='name', columns='month', values='churn_rate'),\n",
        "    title='What Services are Experiencing the Most Monthly Churn?',\n",
        "    labels={'color': 'Churn Rate (%)'},\n",
        "    color_continuous_scale='Viridis'\n",
        ")\n",
        "fig.show()"
      ],
      "metadata": {
        "colab": {
          "base_uri": "https://localhost:8080/",
          "height": 542
        },
        "id": "B5EMLlYW5Dwz",
        "outputId": "0a025946-8265-4d3e-9468-d855103bff83"
      },
      "execution_count": 245,
      "outputs": [
        {
          "output_type": "display_data",
          "data": {
            "text/html": [
              "<html>\n",
              "<head><meta charset=\"utf-8\" /></head>\n",
              "<body>\n",
              "    <div>            <script src=\"https://cdnjs.cloudflare.com/ajax/libs/mathjax/2.7.5/MathJax.js?config=TeX-AMS-MML_SVG\"></script><script type=\"text/javascript\">if (window.MathJax && window.MathJax.Hub && window.MathJax.Hub.Config) {window.MathJax.Hub.Config({SVG: {font: \"STIX-Web\"}});}</script>                <script type=\"text/javascript\">window.PlotlyConfig = {MathJaxConfig: 'local'};</script>\n",
              "        <script charset=\"utf-8\" src=\"https://cdn.plot.ly/plotly-2.24.1.min.js\"></script>                <div id=\"54598b4d-8a54-460b-923e-2760ba6c8189\" class=\"plotly-graph-div\" style=\"height:525px; width:100%;\"></div>            <script type=\"text/javascript\">                                    window.PLOTLYENV=window.PLOTLYENV || {};                                    if (document.getElementById(\"54598b4d-8a54-460b-923e-2760ba6c8189\")) {                    Plotly.newPlot(                        \"54598b4d-8a54-460b-923e-2760ba6c8189\",                        [{\"coloraxis\":\"coloraxis\",\"name\":\"0\",\"x\":[\"2023-08-01 00:00:00\",\"2023-09-01 00:00:00\",\"2023-10-01 00:00:00\",\"2023-11-01 00:00:00\",\"2023-12-01 00:00:00\"],\"y\":[\"EOR\",\"GP\",\"IC\",\"PR\",\"SHD\"],\"z\":[[0.0,0.0,0.0,0.0,0.0],[null,null,0.0,0.0,33.333333333333336],[0.20476068594829794,0.2851475328539549,0.3142373700749335,0.3671521233631134,0.46409379579872984],[0.0,0.0,0.0,0.1443001443001443,0.2840909090909091],[0.0,0.0,0.2159827213822894,0.6160164271047228,0.3795066413662239]],\"type\":\"heatmap\",\"xaxis\":\"x\",\"yaxis\":\"y\",\"hovertemplate\":\"month: %{x}\\u003cbr\\u003ename: %{y}\\u003cbr\\u003eChurn Rate (%): %{z}\\u003cextra\\u003e\\u003c\\u002fextra\\u003e\"}],                        {\"template\":{\"data\":{\"histogram2dcontour\":[{\"type\":\"histogram2dcontour\",\"colorbar\":{\"outlinewidth\":0,\"ticks\":\"\"},\"colorscale\":[[0.0,\"#0d0887\"],[0.1111111111111111,\"#46039f\"],[0.2222222222222222,\"#7201a8\"],[0.3333333333333333,\"#9c179e\"],[0.4444444444444444,\"#bd3786\"],[0.5555555555555556,\"#d8576b\"],[0.6666666666666666,\"#ed7953\"],[0.7777777777777778,\"#fb9f3a\"],[0.8888888888888888,\"#fdca26\"],[1.0,\"#f0f921\"]]}],\"choropleth\":[{\"type\":\"choropleth\",\"colorbar\":{\"outlinewidth\":0,\"ticks\":\"\"}}],\"histogram2d\":[{\"type\":\"histogram2d\",\"colorbar\":{\"outlinewidth\":0,\"ticks\":\"\"},\"colorscale\":[[0.0,\"#0d0887\"],[0.1111111111111111,\"#46039f\"],[0.2222222222222222,\"#7201a8\"],[0.3333333333333333,\"#9c179e\"],[0.4444444444444444,\"#bd3786\"],[0.5555555555555556,\"#d8576b\"],[0.6666666666666666,\"#ed7953\"],[0.7777777777777778,\"#fb9f3a\"],[0.8888888888888888,\"#fdca26\"],[1.0,\"#f0f921\"]]}],\"heatmap\":[{\"type\":\"heatmap\",\"colorbar\":{\"outlinewidth\":0,\"ticks\":\"\"},\"colorscale\":[[0.0,\"#0d0887\"],[0.1111111111111111,\"#46039f\"],[0.2222222222222222,\"#7201a8\"],[0.3333333333333333,\"#9c179e\"],[0.4444444444444444,\"#bd3786\"],[0.5555555555555556,\"#d8576b\"],[0.6666666666666666,\"#ed7953\"],[0.7777777777777778,\"#fb9f3a\"],[0.8888888888888888,\"#fdca26\"],[1.0,\"#f0f921\"]]}],\"heatmapgl\":[{\"type\":\"heatmapgl\",\"colorbar\":{\"outlinewidth\":0,\"ticks\":\"\"},\"colorscale\":[[0.0,\"#0d0887\"],[0.1111111111111111,\"#46039f\"],[0.2222222222222222,\"#7201a8\"],[0.3333333333333333,\"#9c179e\"],[0.4444444444444444,\"#bd3786\"],[0.5555555555555556,\"#d8576b\"],[0.6666666666666666,\"#ed7953\"],[0.7777777777777778,\"#fb9f3a\"],[0.8888888888888888,\"#fdca26\"],[1.0,\"#f0f921\"]]}],\"contourcarpet\":[{\"type\":\"contourcarpet\",\"colorbar\":{\"outlinewidth\":0,\"ticks\":\"\"}}],\"contour\":[{\"type\":\"contour\",\"colorbar\":{\"outlinewidth\":0,\"ticks\":\"\"},\"colorscale\":[[0.0,\"#0d0887\"],[0.1111111111111111,\"#46039f\"],[0.2222222222222222,\"#7201a8\"],[0.3333333333333333,\"#9c179e\"],[0.4444444444444444,\"#bd3786\"],[0.5555555555555556,\"#d8576b\"],[0.6666666666666666,\"#ed7953\"],[0.7777777777777778,\"#fb9f3a\"],[0.8888888888888888,\"#fdca26\"],[1.0,\"#f0f921\"]]}],\"surface\":[{\"type\":\"surface\",\"colorbar\":{\"outlinewidth\":0,\"ticks\":\"\"},\"colorscale\":[[0.0,\"#0d0887\"],[0.1111111111111111,\"#46039f\"],[0.2222222222222222,\"#7201a8\"],[0.3333333333333333,\"#9c179e\"],[0.4444444444444444,\"#bd3786\"],[0.5555555555555556,\"#d8576b\"],[0.6666666666666666,\"#ed7953\"],[0.7777777777777778,\"#fb9f3a\"],[0.8888888888888888,\"#fdca26\"],[1.0,\"#f0f921\"]]}],\"mesh3d\":[{\"type\":\"mesh3d\",\"colorbar\":{\"outlinewidth\":0,\"ticks\":\"\"}}],\"scatter\":[{\"fillpattern\":{\"fillmode\":\"overlay\",\"size\":10,\"solidity\":0.2},\"type\":\"scatter\"}],\"parcoords\":[{\"type\":\"parcoords\",\"line\":{\"colorbar\":{\"outlinewidth\":0,\"ticks\":\"\"}}}],\"scatterpolargl\":[{\"type\":\"scatterpolargl\",\"marker\":{\"colorbar\":{\"outlinewidth\":0,\"ticks\":\"\"}}}],\"bar\":[{\"error_x\":{\"color\":\"#2a3f5f\"},\"error_y\":{\"color\":\"#2a3f5f\"},\"marker\":{\"line\":{\"color\":\"#E5ECF6\",\"width\":0.5},\"pattern\":{\"fillmode\":\"overlay\",\"size\":10,\"solidity\":0.2}},\"type\":\"bar\"}],\"scattergeo\":[{\"type\":\"scattergeo\",\"marker\":{\"colorbar\":{\"outlinewidth\":0,\"ticks\":\"\"}}}],\"scatterpolar\":[{\"type\":\"scatterpolar\",\"marker\":{\"colorbar\":{\"outlinewidth\":0,\"ticks\":\"\"}}}],\"histogram\":[{\"marker\":{\"pattern\":{\"fillmode\":\"overlay\",\"size\":10,\"solidity\":0.2}},\"type\":\"histogram\"}],\"scattergl\":[{\"type\":\"scattergl\",\"marker\":{\"colorbar\":{\"outlinewidth\":0,\"ticks\":\"\"}}}],\"scatter3d\":[{\"type\":\"scatter3d\",\"line\":{\"colorbar\":{\"outlinewidth\":0,\"ticks\":\"\"}},\"marker\":{\"colorbar\":{\"outlinewidth\":0,\"ticks\":\"\"}}}],\"scattermapbox\":[{\"type\":\"scattermapbox\",\"marker\":{\"colorbar\":{\"outlinewidth\":0,\"ticks\":\"\"}}}],\"scatterternary\":[{\"type\":\"scatterternary\",\"marker\":{\"colorbar\":{\"outlinewidth\":0,\"ticks\":\"\"}}}],\"scattercarpet\":[{\"type\":\"scattercarpet\",\"marker\":{\"colorbar\":{\"outlinewidth\":0,\"ticks\":\"\"}}}],\"carpet\":[{\"aaxis\":{\"endlinecolor\":\"#2a3f5f\",\"gridcolor\":\"white\",\"linecolor\":\"white\",\"minorgridcolor\":\"white\",\"startlinecolor\":\"#2a3f5f\"},\"baxis\":{\"endlinecolor\":\"#2a3f5f\",\"gridcolor\":\"white\",\"linecolor\":\"white\",\"minorgridcolor\":\"white\",\"startlinecolor\":\"#2a3f5f\"},\"type\":\"carpet\"}],\"table\":[{\"cells\":{\"fill\":{\"color\":\"#EBF0F8\"},\"line\":{\"color\":\"white\"}},\"header\":{\"fill\":{\"color\":\"#C8D4E3\"},\"line\":{\"color\":\"white\"}},\"type\":\"table\"}],\"barpolar\":[{\"marker\":{\"line\":{\"color\":\"#E5ECF6\",\"width\":0.5},\"pattern\":{\"fillmode\":\"overlay\",\"size\":10,\"solidity\":0.2}},\"type\":\"barpolar\"}],\"pie\":[{\"automargin\":true,\"type\":\"pie\"}]},\"layout\":{\"autotypenumbers\":\"strict\",\"colorway\":[\"#636efa\",\"#EF553B\",\"#00cc96\",\"#ab63fa\",\"#FFA15A\",\"#19d3f3\",\"#FF6692\",\"#B6E880\",\"#FF97FF\",\"#FECB52\"],\"font\":{\"color\":\"#2a3f5f\"},\"hovermode\":\"closest\",\"hoverlabel\":{\"align\":\"left\"},\"paper_bgcolor\":\"white\",\"plot_bgcolor\":\"#E5ECF6\",\"polar\":{\"bgcolor\":\"#E5ECF6\",\"angularaxis\":{\"gridcolor\":\"white\",\"linecolor\":\"white\",\"ticks\":\"\"},\"radialaxis\":{\"gridcolor\":\"white\",\"linecolor\":\"white\",\"ticks\":\"\"}},\"ternary\":{\"bgcolor\":\"#E5ECF6\",\"aaxis\":{\"gridcolor\":\"white\",\"linecolor\":\"white\",\"ticks\":\"\"},\"baxis\":{\"gridcolor\":\"white\",\"linecolor\":\"white\",\"ticks\":\"\"},\"caxis\":{\"gridcolor\":\"white\",\"linecolor\":\"white\",\"ticks\":\"\"}},\"coloraxis\":{\"colorbar\":{\"outlinewidth\":0,\"ticks\":\"\"}},\"colorscale\":{\"sequential\":[[0.0,\"#0d0887\"],[0.1111111111111111,\"#46039f\"],[0.2222222222222222,\"#7201a8\"],[0.3333333333333333,\"#9c179e\"],[0.4444444444444444,\"#bd3786\"],[0.5555555555555556,\"#d8576b\"],[0.6666666666666666,\"#ed7953\"],[0.7777777777777778,\"#fb9f3a\"],[0.8888888888888888,\"#fdca26\"],[1.0,\"#f0f921\"]],\"sequentialminus\":[[0.0,\"#0d0887\"],[0.1111111111111111,\"#46039f\"],[0.2222222222222222,\"#7201a8\"],[0.3333333333333333,\"#9c179e\"],[0.4444444444444444,\"#bd3786\"],[0.5555555555555556,\"#d8576b\"],[0.6666666666666666,\"#ed7953\"],[0.7777777777777778,\"#fb9f3a\"],[0.8888888888888888,\"#fdca26\"],[1.0,\"#f0f921\"]],\"diverging\":[[0,\"#8e0152\"],[0.1,\"#c51b7d\"],[0.2,\"#de77ae\"],[0.3,\"#f1b6da\"],[0.4,\"#fde0ef\"],[0.5,\"#f7f7f7\"],[0.6,\"#e6f5d0\"],[0.7,\"#b8e186\"],[0.8,\"#7fbc41\"],[0.9,\"#4d9221\"],[1,\"#276419\"]]},\"xaxis\":{\"gridcolor\":\"white\",\"linecolor\":\"white\",\"ticks\":\"\",\"title\":{\"standoff\":15},\"zerolinecolor\":\"white\",\"automargin\":true,\"zerolinewidth\":2},\"yaxis\":{\"gridcolor\":\"white\",\"linecolor\":\"white\",\"ticks\":\"\",\"title\":{\"standoff\":15},\"zerolinecolor\":\"white\",\"automargin\":true,\"zerolinewidth\":2},\"scene\":{\"xaxis\":{\"backgroundcolor\":\"#E5ECF6\",\"gridcolor\":\"white\",\"linecolor\":\"white\",\"showbackground\":true,\"ticks\":\"\",\"zerolinecolor\":\"white\",\"gridwidth\":2},\"yaxis\":{\"backgroundcolor\":\"#E5ECF6\",\"gridcolor\":\"white\",\"linecolor\":\"white\",\"showbackground\":true,\"ticks\":\"\",\"zerolinecolor\":\"white\",\"gridwidth\":2},\"zaxis\":{\"backgroundcolor\":\"#E5ECF6\",\"gridcolor\":\"white\",\"linecolor\":\"white\",\"showbackground\":true,\"ticks\":\"\",\"zerolinecolor\":\"white\",\"gridwidth\":2}},\"shapedefaults\":{\"line\":{\"color\":\"#2a3f5f\"}},\"annotationdefaults\":{\"arrowcolor\":\"#2a3f5f\",\"arrowhead\":0,\"arrowwidth\":1},\"geo\":{\"bgcolor\":\"white\",\"landcolor\":\"#E5ECF6\",\"subunitcolor\":\"white\",\"showland\":true,\"showlakes\":true,\"lakecolor\":\"white\"},\"title\":{\"x\":0.05},\"mapbox\":{\"style\":\"light\"}}},\"xaxis\":{\"anchor\":\"y\",\"domain\":[0.0,1.0],\"scaleanchor\":\"y\",\"constrain\":\"domain\",\"title\":{\"text\":\"month\"}},\"yaxis\":{\"anchor\":\"x\",\"domain\":[0.0,1.0],\"autorange\":\"reversed\",\"constrain\":\"domain\",\"title\":{\"text\":\"name\"}},\"coloraxis\":{\"colorbar\":{\"title\":{\"text\":\"Churn Rate (%)\"}},\"colorscale\":[[0.0,\"#440154\"],[0.1111111111111111,\"#482878\"],[0.2222222222222222,\"#3e4989\"],[0.3333333333333333,\"#31688e\"],[0.4444444444444444,\"#26828e\"],[0.5555555555555556,\"#1f9e89\"],[0.6666666666666666,\"#35b779\"],[0.7777777777777778,\"#6ece58\"],[0.8888888888888888,\"#b5de2b\"],[1.0,\"#fde725\"]]},\"title\":{\"text\":\"What Services are Experiencing the Most Monthly Churn?\"}},                        {\"responsive\": true}                    ).then(function(){\n",
              "                            \n",
              "var gd = document.getElementById('54598b4d-8a54-460b-923e-2760ba6c8189');\n",
              "var x = new MutationObserver(function (mutations, observer) {{\n",
              "        var display = window.getComputedStyle(gd).display;\n",
              "        if (!display || display === 'none') {{\n",
              "            console.log([gd, 'removed!']);\n",
              "            Plotly.purge(gd);\n",
              "            observer.disconnect();\n",
              "        }}\n",
              "}});\n",
              "\n",
              "// Listen for the removal of the full notebook cells\n",
              "var notebookContainer = gd.closest('#notebook-container');\n",
              "if (notebookContainer) {{\n",
              "    x.observe(notebookContainer, {childList: true});\n",
              "}}\n",
              "\n",
              "// Listen for the clearing of the current output cell\n",
              "var outputEl = gd.closest('.output');\n",
              "if (outputEl) {{\n",
              "    x.observe(outputEl, {childList: true});\n",
              "}}\n",
              "\n",
              "                        })                };                            </script>        </div>\n",
              "</body>\n",
              "</html>"
            ]
          },
          "metadata": {}
        }
      ]
    },
    {
      "cell_type": "markdown",
      "source": [
        "I assume the GP Payroll service was introduced in Sept, since we dont have and active customers unitl Oct. This service has the highest churn, but that's without standardizing the data. GP service only has 3 active customers as of Dec."
      ],
      "metadata": {
        "id": "xTVk9ULa97qd"
      }
    },
    {
      "cell_type": "code",
      "source": [
        "fig = px.imshow(\n",
        "    churn_by_region.pivot(index='region', columns='month', values='churn_rate'),\n",
        "    title='What International Regions are Experiencing the Most Monthly Churn?',\n",
        "    labels={'color': 'Churn Rate (%)'},\n",
        "    color_continuous_scale='Viridis'\n",
        ")\n",
        "fig.show()"
      ],
      "metadata": {
        "colab": {
          "base_uri": "https://localhost:8080/",
          "height": 542
        },
        "id": "Ujs8U3qGBfW5",
        "outputId": "59bdd9a3-512d-4312-e411-6434955139a0"
      },
      "execution_count": 258,
      "outputs": [
        {
          "output_type": "display_data",
          "data": {
            "text/html": [
              "<html>\n",
              "<head><meta charset=\"utf-8\" /></head>\n",
              "<body>\n",
              "    <div>            <script src=\"https://cdnjs.cloudflare.com/ajax/libs/mathjax/2.7.5/MathJax.js?config=TeX-AMS-MML_SVG\"></script><script type=\"text/javascript\">if (window.MathJax && window.MathJax.Hub && window.MathJax.Hub.Config) {window.MathJax.Hub.Config({SVG: {font: \"STIX-Web\"}});}</script>                <script type=\"text/javascript\">window.PlotlyConfig = {MathJaxConfig: 'local'};</script>\n",
              "        <script charset=\"utf-8\" src=\"https://cdn.plot.ly/plotly-2.24.1.min.js\"></script>                <div id=\"cfbc3d02-790f-4055-a072-38ae4432dbb2\" class=\"plotly-graph-div\" style=\"height:525px; width:100%;\"></div>            <script type=\"text/javascript\">                                    window.PLOTLYENV=window.PLOTLYENV || {};                                    if (document.getElementById(\"cfbc3d02-790f-4055-a072-38ae4432dbb2\")) {                    Plotly.newPlot(                        \"cfbc3d02-790f-4055-a072-38ae4432dbb2\",                        [{\"coloraxis\":\"coloraxis\",\"name\":\"0\",\"x\":[\"2023-08-01 00:00:00\",\"2023-09-01 00:00:00\",\"2023-10-01 00:00:00\",\"2023-11-01 00:00:00\",\"2023-12-01 00:00:00\"],\"y\":[null,\"AMS\",\"APAC\",\"BRAZIL\",\"EMEA\"],\"z\":[[0.5181347150259067,0.9950248756218906,0.4672897196261682,0.0,1.7167381974248928],[0.13513513513513514,0.15731515469323545,0.24102499048585563,0.19898022634000745,0.2804194099000244],[0.3541912632821724,0.22650056625141562,0.21574973031283712,0.20768431983385255,0.2053388090349076],[0.0,0.0,0.0,0.9090909090909091,0.0],[0.10767160161507403,0.2336448598130841,0.17382666997765087,0.3396409509946628,0.3569728700618753]],\"type\":\"heatmap\",\"xaxis\":\"x\",\"yaxis\":\"y\",\"hovertemplate\":\"month: %{x}\\u003cbr\\u003eregion: %{y}\\u003cbr\\u003eChurn Rate (%): %{z}\\u003cextra\\u003e\\u003c\\u002fextra\\u003e\"}],                        {\"template\":{\"data\":{\"histogram2dcontour\":[{\"type\":\"histogram2dcontour\",\"colorbar\":{\"outlinewidth\":0,\"ticks\":\"\"},\"colorscale\":[[0.0,\"#0d0887\"],[0.1111111111111111,\"#46039f\"],[0.2222222222222222,\"#7201a8\"],[0.3333333333333333,\"#9c179e\"],[0.4444444444444444,\"#bd3786\"],[0.5555555555555556,\"#d8576b\"],[0.6666666666666666,\"#ed7953\"],[0.7777777777777778,\"#fb9f3a\"],[0.8888888888888888,\"#fdca26\"],[1.0,\"#f0f921\"]]}],\"choropleth\":[{\"type\":\"choropleth\",\"colorbar\":{\"outlinewidth\":0,\"ticks\":\"\"}}],\"histogram2d\":[{\"type\":\"histogram2d\",\"colorbar\":{\"outlinewidth\":0,\"ticks\":\"\"},\"colorscale\":[[0.0,\"#0d0887\"],[0.1111111111111111,\"#46039f\"],[0.2222222222222222,\"#7201a8\"],[0.3333333333333333,\"#9c179e\"],[0.4444444444444444,\"#bd3786\"],[0.5555555555555556,\"#d8576b\"],[0.6666666666666666,\"#ed7953\"],[0.7777777777777778,\"#fb9f3a\"],[0.8888888888888888,\"#fdca26\"],[1.0,\"#f0f921\"]]}],\"heatmap\":[{\"type\":\"heatmap\",\"colorbar\":{\"outlinewidth\":0,\"ticks\":\"\"},\"colorscale\":[[0.0,\"#0d0887\"],[0.1111111111111111,\"#46039f\"],[0.2222222222222222,\"#7201a8\"],[0.3333333333333333,\"#9c179e\"],[0.4444444444444444,\"#bd3786\"],[0.5555555555555556,\"#d8576b\"],[0.6666666666666666,\"#ed7953\"],[0.7777777777777778,\"#fb9f3a\"],[0.8888888888888888,\"#fdca26\"],[1.0,\"#f0f921\"]]}],\"heatmapgl\":[{\"type\":\"heatmapgl\",\"colorbar\":{\"outlinewidth\":0,\"ticks\":\"\"},\"colorscale\":[[0.0,\"#0d0887\"],[0.1111111111111111,\"#46039f\"],[0.2222222222222222,\"#7201a8\"],[0.3333333333333333,\"#9c179e\"],[0.4444444444444444,\"#bd3786\"],[0.5555555555555556,\"#d8576b\"],[0.6666666666666666,\"#ed7953\"],[0.7777777777777778,\"#fb9f3a\"],[0.8888888888888888,\"#fdca26\"],[1.0,\"#f0f921\"]]}],\"contourcarpet\":[{\"type\":\"contourcarpet\",\"colorbar\":{\"outlinewidth\":0,\"ticks\":\"\"}}],\"contour\":[{\"type\":\"contour\",\"colorbar\":{\"outlinewidth\":0,\"ticks\":\"\"},\"colorscale\":[[0.0,\"#0d0887\"],[0.1111111111111111,\"#46039f\"],[0.2222222222222222,\"#7201a8\"],[0.3333333333333333,\"#9c179e\"],[0.4444444444444444,\"#bd3786\"],[0.5555555555555556,\"#d8576b\"],[0.6666666666666666,\"#ed7953\"],[0.7777777777777778,\"#fb9f3a\"],[0.8888888888888888,\"#fdca26\"],[1.0,\"#f0f921\"]]}],\"surface\":[{\"type\":\"surface\",\"colorbar\":{\"outlinewidth\":0,\"ticks\":\"\"},\"colorscale\":[[0.0,\"#0d0887\"],[0.1111111111111111,\"#46039f\"],[0.2222222222222222,\"#7201a8\"],[0.3333333333333333,\"#9c179e\"],[0.4444444444444444,\"#bd3786\"],[0.5555555555555556,\"#d8576b\"],[0.6666666666666666,\"#ed7953\"],[0.7777777777777778,\"#fb9f3a\"],[0.8888888888888888,\"#fdca26\"],[1.0,\"#f0f921\"]]}],\"mesh3d\":[{\"type\":\"mesh3d\",\"colorbar\":{\"outlinewidth\":0,\"ticks\":\"\"}}],\"scatter\":[{\"fillpattern\":{\"fillmode\":\"overlay\",\"size\":10,\"solidity\":0.2},\"type\":\"scatter\"}],\"parcoords\":[{\"type\":\"parcoords\",\"line\":{\"colorbar\":{\"outlinewidth\":0,\"ticks\":\"\"}}}],\"scatterpolargl\":[{\"type\":\"scatterpolargl\",\"marker\":{\"colorbar\":{\"outlinewidth\":0,\"ticks\":\"\"}}}],\"bar\":[{\"error_x\":{\"color\":\"#2a3f5f\"},\"error_y\":{\"color\":\"#2a3f5f\"},\"marker\":{\"line\":{\"color\":\"#E5ECF6\",\"width\":0.5},\"pattern\":{\"fillmode\":\"overlay\",\"size\":10,\"solidity\":0.2}},\"type\":\"bar\"}],\"scattergeo\":[{\"type\":\"scattergeo\",\"marker\":{\"colorbar\":{\"outlinewidth\":0,\"ticks\":\"\"}}}],\"scatterpolar\":[{\"type\":\"scatterpolar\",\"marker\":{\"colorbar\":{\"outlinewidth\":0,\"ticks\":\"\"}}}],\"histogram\":[{\"marker\":{\"pattern\":{\"fillmode\":\"overlay\",\"size\":10,\"solidity\":0.2}},\"type\":\"histogram\"}],\"scattergl\":[{\"type\":\"scattergl\",\"marker\":{\"colorbar\":{\"outlinewidth\":0,\"ticks\":\"\"}}}],\"scatter3d\":[{\"type\":\"scatter3d\",\"line\":{\"colorbar\":{\"outlinewidth\":0,\"ticks\":\"\"}},\"marker\":{\"colorbar\":{\"outlinewidth\":0,\"ticks\":\"\"}}}],\"scattermapbox\":[{\"type\":\"scattermapbox\",\"marker\":{\"colorbar\":{\"outlinewidth\":0,\"ticks\":\"\"}}}],\"scatterternary\":[{\"type\":\"scatterternary\",\"marker\":{\"colorbar\":{\"outlinewidth\":0,\"ticks\":\"\"}}}],\"scattercarpet\":[{\"type\":\"scattercarpet\",\"marker\":{\"colorbar\":{\"outlinewidth\":0,\"ticks\":\"\"}}}],\"carpet\":[{\"aaxis\":{\"endlinecolor\":\"#2a3f5f\",\"gridcolor\":\"white\",\"linecolor\":\"white\",\"minorgridcolor\":\"white\",\"startlinecolor\":\"#2a3f5f\"},\"baxis\":{\"endlinecolor\":\"#2a3f5f\",\"gridcolor\":\"white\",\"linecolor\":\"white\",\"minorgridcolor\":\"white\",\"startlinecolor\":\"#2a3f5f\"},\"type\":\"carpet\"}],\"table\":[{\"cells\":{\"fill\":{\"color\":\"#EBF0F8\"},\"line\":{\"color\":\"white\"}},\"header\":{\"fill\":{\"color\":\"#C8D4E3\"},\"line\":{\"color\":\"white\"}},\"type\":\"table\"}],\"barpolar\":[{\"marker\":{\"line\":{\"color\":\"#E5ECF6\",\"width\":0.5},\"pattern\":{\"fillmode\":\"overlay\",\"size\":10,\"solidity\":0.2}},\"type\":\"barpolar\"}],\"pie\":[{\"automargin\":true,\"type\":\"pie\"}]},\"layout\":{\"autotypenumbers\":\"strict\",\"colorway\":[\"#636efa\",\"#EF553B\",\"#00cc96\",\"#ab63fa\",\"#FFA15A\",\"#19d3f3\",\"#FF6692\",\"#B6E880\",\"#FF97FF\",\"#FECB52\"],\"font\":{\"color\":\"#2a3f5f\"},\"hovermode\":\"closest\",\"hoverlabel\":{\"align\":\"left\"},\"paper_bgcolor\":\"white\",\"plot_bgcolor\":\"#E5ECF6\",\"polar\":{\"bgcolor\":\"#E5ECF6\",\"angularaxis\":{\"gridcolor\":\"white\",\"linecolor\":\"white\",\"ticks\":\"\"},\"radialaxis\":{\"gridcolor\":\"white\",\"linecolor\":\"white\",\"ticks\":\"\"}},\"ternary\":{\"bgcolor\":\"#E5ECF6\",\"aaxis\":{\"gridcolor\":\"white\",\"linecolor\":\"white\",\"ticks\":\"\"},\"baxis\":{\"gridcolor\":\"white\",\"linecolor\":\"white\",\"ticks\":\"\"},\"caxis\":{\"gridcolor\":\"white\",\"linecolor\":\"white\",\"ticks\":\"\"}},\"coloraxis\":{\"colorbar\":{\"outlinewidth\":0,\"ticks\":\"\"}},\"colorscale\":{\"sequential\":[[0.0,\"#0d0887\"],[0.1111111111111111,\"#46039f\"],[0.2222222222222222,\"#7201a8\"],[0.3333333333333333,\"#9c179e\"],[0.4444444444444444,\"#bd3786\"],[0.5555555555555556,\"#d8576b\"],[0.6666666666666666,\"#ed7953\"],[0.7777777777777778,\"#fb9f3a\"],[0.8888888888888888,\"#fdca26\"],[1.0,\"#f0f921\"]],\"sequentialminus\":[[0.0,\"#0d0887\"],[0.1111111111111111,\"#46039f\"],[0.2222222222222222,\"#7201a8\"],[0.3333333333333333,\"#9c179e\"],[0.4444444444444444,\"#bd3786\"],[0.5555555555555556,\"#d8576b\"],[0.6666666666666666,\"#ed7953\"],[0.7777777777777778,\"#fb9f3a\"],[0.8888888888888888,\"#fdca26\"],[1.0,\"#f0f921\"]],\"diverging\":[[0,\"#8e0152\"],[0.1,\"#c51b7d\"],[0.2,\"#de77ae\"],[0.3,\"#f1b6da\"],[0.4,\"#fde0ef\"],[0.5,\"#f7f7f7\"],[0.6,\"#e6f5d0\"],[0.7,\"#b8e186\"],[0.8,\"#7fbc41\"],[0.9,\"#4d9221\"],[1,\"#276419\"]]},\"xaxis\":{\"gridcolor\":\"white\",\"linecolor\":\"white\",\"ticks\":\"\",\"title\":{\"standoff\":15},\"zerolinecolor\":\"white\",\"automargin\":true,\"zerolinewidth\":2},\"yaxis\":{\"gridcolor\":\"white\",\"linecolor\":\"white\",\"ticks\":\"\",\"title\":{\"standoff\":15},\"zerolinecolor\":\"white\",\"automargin\":true,\"zerolinewidth\":2},\"scene\":{\"xaxis\":{\"backgroundcolor\":\"#E5ECF6\",\"gridcolor\":\"white\",\"linecolor\":\"white\",\"showbackground\":true,\"ticks\":\"\",\"zerolinecolor\":\"white\",\"gridwidth\":2},\"yaxis\":{\"backgroundcolor\":\"#E5ECF6\",\"gridcolor\":\"white\",\"linecolor\":\"white\",\"showbackground\":true,\"ticks\":\"\",\"zerolinecolor\":\"white\",\"gridwidth\":2},\"zaxis\":{\"backgroundcolor\":\"#E5ECF6\",\"gridcolor\":\"white\",\"linecolor\":\"white\",\"showbackground\":true,\"ticks\":\"\",\"zerolinecolor\":\"white\",\"gridwidth\":2}},\"shapedefaults\":{\"line\":{\"color\":\"#2a3f5f\"}},\"annotationdefaults\":{\"arrowcolor\":\"#2a3f5f\",\"arrowhead\":0,\"arrowwidth\":1},\"geo\":{\"bgcolor\":\"white\",\"landcolor\":\"#E5ECF6\",\"subunitcolor\":\"white\",\"showland\":true,\"showlakes\":true,\"lakecolor\":\"white\"},\"title\":{\"x\":0.05},\"mapbox\":{\"style\":\"light\"}}},\"xaxis\":{\"anchor\":\"y\",\"domain\":[0.0,1.0],\"scaleanchor\":\"y\",\"constrain\":\"domain\",\"title\":{\"text\":\"month\"}},\"yaxis\":{\"anchor\":\"x\",\"domain\":[0.0,1.0],\"autorange\":\"reversed\",\"constrain\":\"domain\",\"title\":{\"text\":\"region\"}},\"coloraxis\":{\"colorbar\":{\"title\":{\"text\":\"Churn Rate (%)\"}},\"colorscale\":[[0.0,\"#440154\"],[0.1111111111111111,\"#482878\"],[0.2222222222222222,\"#3e4989\"],[0.3333333333333333,\"#31688e\"],[0.4444444444444444,\"#26828e\"],[0.5555555555555556,\"#1f9e89\"],[0.6666666666666666,\"#35b779\"],[0.7777777777777778,\"#6ece58\"],[0.8888888888888888,\"#b5de2b\"],[1.0,\"#fde725\"]]},\"title\":{\"text\":\"What International Regions are Experiencing the Most Monthly Churn?\"}},                        {\"responsive\": true}                    ).then(function(){\n",
              "                            \n",
              "var gd = document.getElementById('cfbc3d02-790f-4055-a072-38ae4432dbb2');\n",
              "var x = new MutationObserver(function (mutations, observer) {{\n",
              "        var display = window.getComputedStyle(gd).display;\n",
              "        if (!display || display === 'none') {{\n",
              "            console.log([gd, 'removed!']);\n",
              "            Plotly.purge(gd);\n",
              "            observer.disconnect();\n",
              "        }}\n",
              "}});\n",
              "\n",
              "// Listen for the removal of the full notebook cells\n",
              "var notebookContainer = gd.closest('#notebook-container');\n",
              "if (notebookContainer) {{\n",
              "    x.observe(notebookContainer, {childList: true});\n",
              "}}\n",
              "\n",
              "// Listen for the clearing of the current output cell\n",
              "var outputEl = gd.closest('.output');\n",
              "if (outputEl) {{\n",
              "    x.observe(outputEl, {childList: true});\n",
              "}}\n",
              "\n",
              "                        })                };                            </script>        </div>\n",
              "</body>\n",
              "</html>"
            ]
          },
          "metadata": {}
        }
      ]
    },
    {
      "cell_type": "code",
      "source": [
        "fig = px.line(\n",
        "    churn_by_regional_service,\n",
        "    x='month',\n",
        "    y='churn_rate',\n",
        "    color='name',\n",
        "    line_dash='region',\n",
        "    markers=True,\n",
        "    title='Monthly Churn Rate by Service and Region',\n",
        "    labels={\n",
        "        'month': 'Month',\n",
        "        'churn_rate': 'Churn Rate (%)',\n",
        "        'name': 'Service Name',\n",
        "        'region': 'Region'\n",
        "    }\n",
        ")\n",
        "fig.update_xaxes(\n",
        "    dtick=\"M1\",\n",
        "    tickformat=\"%b %Y\"\n",
        ")\n",
        "fig.show()"
      ],
      "metadata": {
        "colab": {
          "base_uri": "https://localhost:8080/",
          "height": 542
        },
        "id": "vDGlYOLVCknP",
        "outputId": "1ea0b682-b8d5-4095-f2b0-15b2873ede9c"
      },
      "execution_count": 267,
      "outputs": [
        {
          "output_type": "display_data",
          "data": {
            "text/html": [
              "<html>\n",
              "<head><meta charset=\"utf-8\" /></head>\n",
              "<body>\n",
              "    <div>            <script src=\"https://cdnjs.cloudflare.com/ajax/libs/mathjax/2.7.5/MathJax.js?config=TeX-AMS-MML_SVG\"></script><script type=\"text/javascript\">if (window.MathJax && window.MathJax.Hub && window.MathJax.Hub.Config) {window.MathJax.Hub.Config({SVG: {font: \"STIX-Web\"}});}</script>                <script type=\"text/javascript\">window.PlotlyConfig = {MathJaxConfig: 'local'};</script>\n",
              "        <script charset=\"utf-8\" src=\"https://cdn.plot.ly/plotly-2.24.1.min.js\"></script>                <div id=\"99b21a59-d34c-4015-88da-c214f2508a10\" class=\"plotly-graph-div\" style=\"height:525px; width:100%;\"></div>            <script type=\"text/javascript\">                                    window.PLOTLYENV=window.PLOTLYENV || {};                                    if (document.getElementById(\"99b21a59-d34c-4015-88da-c214f2508a10\")) {                    Plotly.newPlot(                        \"99b21a59-d34c-4015-88da-c214f2508a10\",                        [{\"hovertemplate\":\"Service Name=EOR\\u003cbr\\u003eRegion=AMS\\u003cbr\\u003eMonth=%{x}\\u003cbr\\u003eChurn Rate (%)=%{y}\\u003cextra\\u003e\\u003c\\u002fextra\\u003e\",\"legendgroup\":\"EOR, AMS\",\"line\":{\"color\":\"#636efa\",\"dash\":\"dot\"},\"marker\":{\"symbol\":\"circle\"},\"mode\":\"lines+markers\",\"name\":\"EOR, AMS\",\"orientation\":\"v\",\"showlegend\":true,\"x\":[\"2023-08-01 00:00:00\",\"2023-09-01 00:00:00\",\"2023-10-01 00:00:00\",\"2023-11-01 00:00:00\",\"2023-12-01 00:00:00\"],\"xaxis\":\"x\",\"y\":[0.0,0.0,0.0,0.0,0.0],\"yaxis\":\"y\",\"type\":\"scatter\"},{\"hovertemplate\":\"Service Name=EOR\\u003cbr\\u003eRegion=APAC\\u003cbr\\u003eMonth=%{x}\\u003cbr\\u003eChurn Rate (%)=%{y}\\u003cextra\\u003e\\u003c\\u002fextra\\u003e\",\"legendgroup\":\"EOR, APAC\",\"line\":{\"color\":\"#636efa\",\"dash\":\"dash\"},\"marker\":{\"symbol\":\"circle\"},\"mode\":\"lines+markers\",\"name\":\"EOR, APAC\",\"orientation\":\"v\",\"showlegend\":true,\"x\":[\"2023-08-01 00:00:00\",\"2023-09-01 00:00:00\",\"2023-10-01 00:00:00\",\"2023-11-01 00:00:00\",\"2023-12-01 00:00:00\"],\"xaxis\":\"x\",\"y\":[0.0,0.0,0.0,0.0,0.0],\"yaxis\":\"y\",\"type\":\"scatter\"},{\"hovertemplate\":\"Service Name=EOR\\u003cbr\\u003eRegion=BRAZIL\\u003cbr\\u003eMonth=%{x}\\u003cbr\\u003eChurn Rate (%)=%{y}\\u003cextra\\u003e\\u003c\\u002fextra\\u003e\",\"legendgroup\":\"EOR, BRAZIL\",\"line\":{\"color\":\"#636efa\",\"dash\":\"longdash\"},\"marker\":{\"symbol\":\"circle\"},\"mode\":\"lines+markers\",\"name\":\"EOR, BRAZIL\",\"orientation\":\"v\",\"showlegend\":true,\"x\":[\"2023-08-01 00:00:00\",\"2023-09-01 00:00:00\",\"2023-10-01 00:00:00\",\"2023-11-01 00:00:00\",\"2023-12-01 00:00:00\"],\"xaxis\":\"x\",\"y\":[0.0,0.0,0.0,0.0,0.0],\"yaxis\":\"y\",\"type\":\"scatter\"},{\"hovertemplate\":\"Service Name=EOR\\u003cbr\\u003eRegion=EMEA\\u003cbr\\u003eMonth=%{x}\\u003cbr\\u003eChurn Rate (%)=%{y}\\u003cextra\\u003e\\u003c\\u002fextra\\u003e\",\"legendgroup\":\"EOR, EMEA\",\"line\":{\"color\":\"#636efa\",\"dash\":\"dashdot\"},\"marker\":{\"symbol\":\"circle\"},\"mode\":\"lines+markers\",\"name\":\"EOR, EMEA\",\"orientation\":\"v\",\"showlegend\":true,\"x\":[\"2023-08-01 00:00:00\",\"2023-09-01 00:00:00\",\"2023-10-01 00:00:00\",\"2023-11-01 00:00:00\",\"2023-12-01 00:00:00\"],\"xaxis\":\"x\",\"y\":[0.0,0.0,0.0,0.0,0.0],\"yaxis\":\"y\",\"type\":\"scatter\"},{\"hovertemplate\":\"Service Name=IC\\u003cbr\\u003eRegion=AMS\\u003cbr\\u003eMonth=%{x}\\u003cbr\\u003eChurn Rate (%)=%{y}\\u003cextra\\u003e\\u003c\\u002fextra\\u003e\",\"legendgroup\":\"IC, AMS\",\"line\":{\"color\":\"#EF553B\",\"dash\":\"dot\"},\"marker\":{\"symbol\":\"circle\"},\"mode\":\"lines+markers\",\"name\":\"IC, AMS\",\"orientation\":\"v\",\"showlegend\":true,\"x\":[\"2023-08-01 00:00:00\",\"2023-09-01 00:00:00\",\"2023-10-01 00:00:00\",\"2023-11-01 00:00:00\",\"2023-12-01 00:00:00\"],\"xaxis\":\"x\",\"y\":[0.16847622613253463,0.19978205593897566,0.30067209055535904,0.2516175413371675,0.34148094895758446],\"yaxis\":\"y\",\"type\":\"scatter\"},{\"hovertemplate\":\"Service Name=IC\\u003cbr\\u003eRegion=APAC\\u003cbr\\u003eMonth=%{x}\\u003cbr\\u003eChurn Rate (%)=%{y}\\u003cextra\\u003e\\u003c\\u002fextra\\u003e\",\"legendgroup\":\"IC, APAC\",\"line\":{\"color\":\"#EF553B\",\"dash\":\"dash\"},\"marker\":{\"symbol\":\"circle\"},\"mode\":\"lines+markers\",\"name\":\"IC, APAC\",\"orientation\":\"v\",\"showlegend\":true,\"x\":[\"2023-08-01 00:00:00\",\"2023-09-01 00:00:00\",\"2023-10-01 00:00:00\",\"2023-11-01 00:00:00\",\"2023-12-01 00:00:00\"],\"xaxis\":\"x\",\"y\":[0.6666666666666666,0.42643923240938164,0.4166666666666667,0.40816326530612246,0.6122448979591837],\"yaxis\":\"y\",\"type\":\"scatter\"},{\"hovertemplate\":\"Service Name=IC\\u003cbr\\u003eRegion=BRAZIL\\u003cbr\\u003eMonth=%{x}\\u003cbr\\u003eChurn Rate (%)=%{y}\\u003cextra\\u003e\\u003c\\u002fextra\\u003e\",\"legendgroup\":\"IC, BRAZIL\",\"line\":{\"color\":\"#EF553B\",\"dash\":\"longdash\"},\"marker\":{\"symbol\":\"circle\"},\"mode\":\"lines+markers\",\"name\":\"IC, BRAZIL\",\"orientation\":\"v\",\"showlegend\":true,\"x\":[\"2023-08-01 00:00:00\",\"2023-09-01 00:00:00\",\"2023-10-01 00:00:00\",\"2023-11-01 00:00:00\",\"2023-12-01 00:00:00\"],\"xaxis\":\"x\",\"y\":[0.0,0.0,0.0,1.6666666666666667,0.0],\"yaxis\":\"y\",\"type\":\"scatter\"},{\"hovertemplate\":\"Service Name=IC\\u003cbr\\u003eRegion=EMEA\\u003cbr\\u003eMonth=%{x}\\u003cbr\\u003eChurn Rate (%)=%{y}\\u003cextra\\u003e\\u003c\\u002fextra\\u003e\",\"legendgroup\":\"IC, EMEA\",\"line\":{\"color\":\"#EF553B\",\"dash\":\"dashdot\"},\"marker\":{\"symbol\":\"circle\"},\"mode\":\"lines+markers\",\"name\":\"IC, EMEA\",\"orientation\":\"v\",\"showlegend\":true,\"x\":[\"2023-08-01 00:00:00\",\"2023-09-01 00:00:00\",\"2023-10-01 00:00:00\",\"2023-11-01 00:00:00\",\"2023-12-01 00:00:00\"],\"xaxis\":\"x\",\"y\":[0.16648168701442842,0.42849491162292447,0.3146303093864709,0.6863780359028511,0.631578947368421],\"yaxis\":\"y\",\"type\":\"scatter\"},{\"hovertemplate\":\"Service Name=PR\\u003cbr\\u003eRegion=AMS\\u003cbr\\u003eMonth=%{x}\\u003cbr\\u003eChurn Rate (%)=%{y}\\u003cextra\\u003e\\u003c\\u002fextra\\u003e\",\"legendgroup\":\"PR, AMS\",\"line\":{\"color\":\"#00cc96\",\"dash\":\"dot\"},\"marker\":{\"symbol\":\"circle\"},\"mode\":\"lines+markers\",\"name\":\"PR, AMS\",\"orientation\":\"v\",\"showlegend\":true,\"x\":[\"2023-08-01 00:00:00\",\"2023-09-01 00:00:00\",\"2023-10-01 00:00:00\",\"2023-11-01 00:00:00\",\"2023-12-01 00:00:00\"],\"xaxis\":\"x\",\"y\":[0.0,0.0,0.0,0.2183406113537118,0.21141649048625794],\"yaxis\":\"y\",\"type\":\"scatter\"},{\"hovertemplate\":\"Service Name=PR\\u003cbr\\u003eRegion=APAC\\u003cbr\\u003eMonth=%{x}\\u003cbr\\u003eChurn Rate (%)=%{y}\\u003cextra\\u003e\\u003c\\u002fextra\\u003e\",\"legendgroup\":\"PR, APAC\",\"line\":{\"color\":\"#00cc96\",\"dash\":\"dash\"},\"marker\":{\"symbol\":\"circle\"},\"mode\":\"lines+markers\",\"name\":\"PR, APAC\",\"orientation\":\"v\",\"showlegend\":true,\"x\":[\"2023-08-01 00:00:00\",\"2023-09-01 00:00:00\",\"2023-10-01 00:00:00\",\"2023-11-01 00:00:00\",\"2023-12-01 00:00:00\"],\"xaxis\":\"x\",\"y\":[0.0,0.0,0.0,0.0,0.0],\"yaxis\":\"y\",\"type\":\"scatter\"},{\"hovertemplate\":\"Service Name=PR\\u003cbr\\u003eRegion=BRAZIL\\u003cbr\\u003eMonth=%{x}\\u003cbr\\u003eChurn Rate (%)=%{y}\\u003cextra\\u003e\\u003c\\u002fextra\\u003e\",\"legendgroup\":\"PR, BRAZIL\",\"line\":{\"color\":\"#00cc96\",\"dash\":\"longdash\"},\"marker\":{\"symbol\":\"circle\"},\"mode\":\"lines+markers\",\"name\":\"PR, BRAZIL\",\"orientation\":\"v\",\"showlegend\":true,\"x\":[\"2023-08-01 00:00:00\",\"2023-09-01 00:00:00\",\"2023-10-01 00:00:00\",\"2023-11-01 00:00:00\",\"2023-12-01 00:00:00\"],\"xaxis\":\"x\",\"y\":[0.0,0.0,0.0,0.0,0.0],\"yaxis\":\"y\",\"type\":\"scatter\"},{\"hovertemplate\":\"Service Name=PR\\u003cbr\\u003eRegion=EMEA\\u003cbr\\u003eMonth=%{x}\\u003cbr\\u003eChurn Rate (%)=%{y}\\u003cextra\\u003e\\u003c\\u002fextra\\u003e\",\"legendgroup\":\"PR, EMEA\",\"line\":{\"color\":\"#00cc96\",\"dash\":\"dashdot\"},\"marker\":{\"symbol\":\"circle\"},\"mode\":\"lines+markers\",\"name\":\"PR, EMEA\",\"orientation\":\"v\",\"showlegend\":true,\"x\":[\"2023-08-01 00:00:00\",\"2023-09-01 00:00:00\",\"2023-10-01 00:00:00\",\"2023-11-01 00:00:00\",\"2023-12-01 00:00:00\"],\"xaxis\":\"x\",\"y\":[0.0,0.0,0.0,0.0,0.5649717514124294],\"yaxis\":\"y\",\"type\":\"scatter\"},{\"hovertemplate\":\"Service Name=SHD\\u003cbr\\u003eRegion=AMS\\u003cbr\\u003eMonth=%{x}\\u003cbr\\u003eChurn Rate (%)=%{y}\\u003cextra\\u003e\\u003c\\u002fextra\\u003e\",\"legendgroup\":\"SHD, AMS\",\"line\":{\"color\":\"#ab63fa\",\"dash\":\"dot\"},\"marker\":{\"symbol\":\"circle\"},\"mode\":\"lines+markers\",\"name\":\"SHD, AMS\",\"orientation\":\"v\",\"showlegend\":true,\"x\":[\"2023-08-01 00:00:00\",\"2023-09-01 00:00:00\",\"2023-10-01 00:00:00\",\"2023-11-01 00:00:00\",\"2023-12-01 00:00:00\"],\"xaxis\":\"x\",\"y\":[0.0,0.0,0.28169014084507044,0.27548209366391185,0.0],\"yaxis\":\"y\",\"type\":\"scatter\"},{\"hovertemplate\":\"Service Name=SHD\\u003cbr\\u003eRegion=APAC\\u003cbr\\u003eMonth=%{x}\\u003cbr\\u003eChurn Rate (%)=%{y}\\u003cextra\\u003e\\u003c\\u002fextra\\u003e\",\"legendgroup\":\"SHD, APAC\",\"line\":{\"color\":\"#ab63fa\",\"dash\":\"dash\"},\"marker\":{\"symbol\":\"circle\"},\"mode\":\"lines+markers\",\"name\":\"SHD, APAC\",\"orientation\":\"v\",\"showlegend\":true,\"x\":[\"2023-08-01 00:00:00\",\"2023-09-01 00:00:00\",\"2023-10-01 00:00:00\",\"2023-11-01 00:00:00\",\"2023-12-01 00:00:00\"],\"xaxis\":\"x\",\"y\":[0.0,0.0,0.0,0.0,0.0],\"yaxis\":\"y\",\"type\":\"scatter\"},{\"hovertemplate\":\"Service Name=SHD\\u003cbr\\u003eRegion=BRAZIL\\u003cbr\\u003eMonth=%{x}\\u003cbr\\u003eChurn Rate (%)=%{y}\\u003cextra\\u003e\\u003c\\u002fextra\\u003e\",\"legendgroup\":\"SHD, BRAZIL\",\"line\":{\"color\":\"#ab63fa\",\"dash\":\"longdash\"},\"marker\":{\"symbol\":\"circle\"},\"mode\":\"lines+markers\",\"name\":\"SHD, BRAZIL\",\"orientation\":\"v\",\"showlegend\":true,\"x\":[\"2023-08-01 00:00:00\",\"2023-09-01 00:00:00\",\"2023-10-01 00:00:00\",\"2023-11-01 00:00:00\",\"2023-12-01 00:00:00\"],\"xaxis\":\"x\",\"y\":[0.0,0.0,0.0,0.0,0.0],\"yaxis\":\"y\",\"type\":\"scatter\"},{\"hovertemplate\":\"Service Name=SHD\\u003cbr\\u003eRegion=EMEA\\u003cbr\\u003eMonth=%{x}\\u003cbr\\u003eChurn Rate (%)=%{y}\\u003cextra\\u003e\\u003c\\u002fextra\\u003e\",\"legendgroup\":\"SHD, EMEA\",\"line\":{\"color\":\"#ab63fa\",\"dash\":\"dashdot\"},\"marker\":{\"symbol\":\"circle\"},\"mode\":\"lines+markers\",\"name\":\"SHD, EMEA\",\"orientation\":\"v\",\"showlegend\":true,\"x\":[\"2023-08-01 00:00:00\",\"2023-09-01 00:00:00\",\"2023-10-01 00:00:00\",\"2023-11-01 00:00:00\",\"2023-12-01 00:00:00\"],\"xaxis\":\"x\",\"y\":[0.0,0.0,0.0,2.4390243902439024,2.0618556701030926],\"yaxis\":\"y\",\"type\":\"scatter\"},{\"hovertemplate\":\"Service Name=GP\\u003cbr\\u003eRegion=AMS\\u003cbr\\u003eMonth=%{x}\\u003cbr\\u003eChurn Rate (%)=%{y}\\u003cextra\\u003e\\u003c\\u002fextra\\u003e\",\"legendgroup\":\"GP, AMS\",\"line\":{\"color\":\"#FFA15A\",\"dash\":\"dot\"},\"marker\":{\"symbol\":\"circle\"},\"mode\":\"lines+markers\",\"name\":\"GP, AMS\",\"orientation\":\"v\",\"showlegend\":true,\"x\":[\"2023-11-01 00:00:00\",\"2023-12-01 00:00:00\"],\"xaxis\":\"x\",\"y\":[0.0,100.0],\"yaxis\":\"y\",\"type\":\"scatter\"},{\"hovertemplate\":\"Service Name=GP\\u003cbr\\u003eRegion=APAC\\u003cbr\\u003eMonth=%{x}\\u003cbr\\u003eChurn Rate (%)=%{y}\\u003cextra\\u003e\\u003c\\u002fextra\\u003e\",\"legendgroup\":\"GP, APAC\",\"line\":{\"color\":\"#FFA15A\",\"dash\":\"dash\"},\"marker\":{\"symbol\":\"circle\"},\"mode\":\"lines+markers\",\"name\":\"GP, APAC\",\"orientation\":\"v\",\"showlegend\":true,\"x\":[\"2023-10-01 00:00:00\",\"2023-12-01 00:00:00\"],\"xaxis\":\"x\",\"y\":[0.0,0.0],\"yaxis\":\"y\",\"type\":\"scatter\"},{\"hovertemplate\":\"Service Name=GP\\u003cbr\\u003eRegion=EMEA\\u003cbr\\u003eMonth=%{x}\\u003cbr\\u003eChurn Rate (%)=%{y}\\u003cextra\\u003e\\u003c\\u002fextra\\u003e\",\"legendgroup\":\"GP, EMEA\",\"line\":{\"color\":\"#FFA15A\",\"dash\":\"dashdot\"},\"marker\":{\"symbol\":\"circle\"},\"mode\":\"lines+markers\",\"name\":\"GP, EMEA\",\"orientation\":\"v\",\"showlegend\":true,\"x\":[\"2023-11-01 00:00:00\",\"2023-12-01 00:00:00\"],\"xaxis\":\"x\",\"y\":[0.0,0.0],\"yaxis\":\"y\",\"type\":\"scatter\"}],                        {\"template\":{\"data\":{\"histogram2dcontour\":[{\"type\":\"histogram2dcontour\",\"colorbar\":{\"outlinewidth\":0,\"ticks\":\"\"},\"colorscale\":[[0.0,\"#0d0887\"],[0.1111111111111111,\"#46039f\"],[0.2222222222222222,\"#7201a8\"],[0.3333333333333333,\"#9c179e\"],[0.4444444444444444,\"#bd3786\"],[0.5555555555555556,\"#d8576b\"],[0.6666666666666666,\"#ed7953\"],[0.7777777777777778,\"#fb9f3a\"],[0.8888888888888888,\"#fdca26\"],[1.0,\"#f0f921\"]]}],\"choropleth\":[{\"type\":\"choropleth\",\"colorbar\":{\"outlinewidth\":0,\"ticks\":\"\"}}],\"histogram2d\":[{\"type\":\"histogram2d\",\"colorbar\":{\"outlinewidth\":0,\"ticks\":\"\"},\"colorscale\":[[0.0,\"#0d0887\"],[0.1111111111111111,\"#46039f\"],[0.2222222222222222,\"#7201a8\"],[0.3333333333333333,\"#9c179e\"],[0.4444444444444444,\"#bd3786\"],[0.5555555555555556,\"#d8576b\"],[0.6666666666666666,\"#ed7953\"],[0.7777777777777778,\"#fb9f3a\"],[0.8888888888888888,\"#fdca26\"],[1.0,\"#f0f921\"]]}],\"heatmap\":[{\"type\":\"heatmap\",\"colorbar\":{\"outlinewidth\":0,\"ticks\":\"\"},\"colorscale\":[[0.0,\"#0d0887\"],[0.1111111111111111,\"#46039f\"],[0.2222222222222222,\"#7201a8\"],[0.3333333333333333,\"#9c179e\"],[0.4444444444444444,\"#bd3786\"],[0.5555555555555556,\"#d8576b\"],[0.6666666666666666,\"#ed7953\"],[0.7777777777777778,\"#fb9f3a\"],[0.8888888888888888,\"#fdca26\"],[1.0,\"#f0f921\"]]}],\"heatmapgl\":[{\"type\":\"heatmapgl\",\"colorbar\":{\"outlinewidth\":0,\"ticks\":\"\"},\"colorscale\":[[0.0,\"#0d0887\"],[0.1111111111111111,\"#46039f\"],[0.2222222222222222,\"#7201a8\"],[0.3333333333333333,\"#9c179e\"],[0.4444444444444444,\"#bd3786\"],[0.5555555555555556,\"#d8576b\"],[0.6666666666666666,\"#ed7953\"],[0.7777777777777778,\"#fb9f3a\"],[0.8888888888888888,\"#fdca26\"],[1.0,\"#f0f921\"]]}],\"contourcarpet\":[{\"type\":\"contourcarpet\",\"colorbar\":{\"outlinewidth\":0,\"ticks\":\"\"}}],\"contour\":[{\"type\":\"contour\",\"colorbar\":{\"outlinewidth\":0,\"ticks\":\"\"},\"colorscale\":[[0.0,\"#0d0887\"],[0.1111111111111111,\"#46039f\"],[0.2222222222222222,\"#7201a8\"],[0.3333333333333333,\"#9c179e\"],[0.4444444444444444,\"#bd3786\"],[0.5555555555555556,\"#d8576b\"],[0.6666666666666666,\"#ed7953\"],[0.7777777777777778,\"#fb9f3a\"],[0.8888888888888888,\"#fdca26\"],[1.0,\"#f0f921\"]]}],\"surface\":[{\"type\":\"surface\",\"colorbar\":{\"outlinewidth\":0,\"ticks\":\"\"},\"colorscale\":[[0.0,\"#0d0887\"],[0.1111111111111111,\"#46039f\"],[0.2222222222222222,\"#7201a8\"],[0.3333333333333333,\"#9c179e\"],[0.4444444444444444,\"#bd3786\"],[0.5555555555555556,\"#d8576b\"],[0.6666666666666666,\"#ed7953\"],[0.7777777777777778,\"#fb9f3a\"],[0.8888888888888888,\"#fdca26\"],[1.0,\"#f0f921\"]]}],\"mesh3d\":[{\"type\":\"mesh3d\",\"colorbar\":{\"outlinewidth\":0,\"ticks\":\"\"}}],\"scatter\":[{\"fillpattern\":{\"fillmode\":\"overlay\",\"size\":10,\"solidity\":0.2},\"type\":\"scatter\"}],\"parcoords\":[{\"type\":\"parcoords\",\"line\":{\"colorbar\":{\"outlinewidth\":0,\"ticks\":\"\"}}}],\"scatterpolargl\":[{\"type\":\"scatterpolargl\",\"marker\":{\"colorbar\":{\"outlinewidth\":0,\"ticks\":\"\"}}}],\"bar\":[{\"error_x\":{\"color\":\"#2a3f5f\"},\"error_y\":{\"color\":\"#2a3f5f\"},\"marker\":{\"line\":{\"color\":\"#E5ECF6\",\"width\":0.5},\"pattern\":{\"fillmode\":\"overlay\",\"size\":10,\"solidity\":0.2}},\"type\":\"bar\"}],\"scattergeo\":[{\"type\":\"scattergeo\",\"marker\":{\"colorbar\":{\"outlinewidth\":0,\"ticks\":\"\"}}}],\"scatterpolar\":[{\"type\":\"scatterpolar\",\"marker\":{\"colorbar\":{\"outlinewidth\":0,\"ticks\":\"\"}}}],\"histogram\":[{\"marker\":{\"pattern\":{\"fillmode\":\"overlay\",\"size\":10,\"solidity\":0.2}},\"type\":\"histogram\"}],\"scattergl\":[{\"type\":\"scattergl\",\"marker\":{\"colorbar\":{\"outlinewidth\":0,\"ticks\":\"\"}}}],\"scatter3d\":[{\"type\":\"scatter3d\",\"line\":{\"colorbar\":{\"outlinewidth\":0,\"ticks\":\"\"}},\"marker\":{\"colorbar\":{\"outlinewidth\":0,\"ticks\":\"\"}}}],\"scattermapbox\":[{\"type\":\"scattermapbox\",\"marker\":{\"colorbar\":{\"outlinewidth\":0,\"ticks\":\"\"}}}],\"scatterternary\":[{\"type\":\"scatterternary\",\"marker\":{\"colorbar\":{\"outlinewidth\":0,\"ticks\":\"\"}}}],\"scattercarpet\":[{\"type\":\"scattercarpet\",\"marker\":{\"colorbar\":{\"outlinewidth\":0,\"ticks\":\"\"}}}],\"carpet\":[{\"aaxis\":{\"endlinecolor\":\"#2a3f5f\",\"gridcolor\":\"white\",\"linecolor\":\"white\",\"minorgridcolor\":\"white\",\"startlinecolor\":\"#2a3f5f\"},\"baxis\":{\"endlinecolor\":\"#2a3f5f\",\"gridcolor\":\"white\",\"linecolor\":\"white\",\"minorgridcolor\":\"white\",\"startlinecolor\":\"#2a3f5f\"},\"type\":\"carpet\"}],\"table\":[{\"cells\":{\"fill\":{\"color\":\"#EBF0F8\"},\"line\":{\"color\":\"white\"}},\"header\":{\"fill\":{\"color\":\"#C8D4E3\"},\"line\":{\"color\":\"white\"}},\"type\":\"table\"}],\"barpolar\":[{\"marker\":{\"line\":{\"color\":\"#E5ECF6\",\"width\":0.5},\"pattern\":{\"fillmode\":\"overlay\",\"size\":10,\"solidity\":0.2}},\"type\":\"barpolar\"}],\"pie\":[{\"automargin\":true,\"type\":\"pie\"}]},\"layout\":{\"autotypenumbers\":\"strict\",\"colorway\":[\"#636efa\",\"#EF553B\",\"#00cc96\",\"#ab63fa\",\"#FFA15A\",\"#19d3f3\",\"#FF6692\",\"#B6E880\",\"#FF97FF\",\"#FECB52\"],\"font\":{\"color\":\"#2a3f5f\"},\"hovermode\":\"closest\",\"hoverlabel\":{\"align\":\"left\"},\"paper_bgcolor\":\"white\",\"plot_bgcolor\":\"#E5ECF6\",\"polar\":{\"bgcolor\":\"#E5ECF6\",\"angularaxis\":{\"gridcolor\":\"white\",\"linecolor\":\"white\",\"ticks\":\"\"},\"radialaxis\":{\"gridcolor\":\"white\",\"linecolor\":\"white\",\"ticks\":\"\"}},\"ternary\":{\"bgcolor\":\"#E5ECF6\",\"aaxis\":{\"gridcolor\":\"white\",\"linecolor\":\"white\",\"ticks\":\"\"},\"baxis\":{\"gridcolor\":\"white\",\"linecolor\":\"white\",\"ticks\":\"\"},\"caxis\":{\"gridcolor\":\"white\",\"linecolor\":\"white\",\"ticks\":\"\"}},\"coloraxis\":{\"colorbar\":{\"outlinewidth\":0,\"ticks\":\"\"}},\"colorscale\":{\"sequential\":[[0.0,\"#0d0887\"],[0.1111111111111111,\"#46039f\"],[0.2222222222222222,\"#7201a8\"],[0.3333333333333333,\"#9c179e\"],[0.4444444444444444,\"#bd3786\"],[0.5555555555555556,\"#d8576b\"],[0.6666666666666666,\"#ed7953\"],[0.7777777777777778,\"#fb9f3a\"],[0.8888888888888888,\"#fdca26\"],[1.0,\"#f0f921\"]],\"sequentialminus\":[[0.0,\"#0d0887\"],[0.1111111111111111,\"#46039f\"],[0.2222222222222222,\"#7201a8\"],[0.3333333333333333,\"#9c179e\"],[0.4444444444444444,\"#bd3786\"],[0.5555555555555556,\"#d8576b\"],[0.6666666666666666,\"#ed7953\"],[0.7777777777777778,\"#fb9f3a\"],[0.8888888888888888,\"#fdca26\"],[1.0,\"#f0f921\"]],\"diverging\":[[0,\"#8e0152\"],[0.1,\"#c51b7d\"],[0.2,\"#de77ae\"],[0.3,\"#f1b6da\"],[0.4,\"#fde0ef\"],[0.5,\"#f7f7f7\"],[0.6,\"#e6f5d0\"],[0.7,\"#b8e186\"],[0.8,\"#7fbc41\"],[0.9,\"#4d9221\"],[1,\"#276419\"]]},\"xaxis\":{\"gridcolor\":\"white\",\"linecolor\":\"white\",\"ticks\":\"\",\"title\":{\"standoff\":15},\"zerolinecolor\":\"white\",\"automargin\":true,\"zerolinewidth\":2},\"yaxis\":{\"gridcolor\":\"white\",\"linecolor\":\"white\",\"ticks\":\"\",\"title\":{\"standoff\":15},\"zerolinecolor\":\"white\",\"automargin\":true,\"zerolinewidth\":2},\"scene\":{\"xaxis\":{\"backgroundcolor\":\"#E5ECF6\",\"gridcolor\":\"white\",\"linecolor\":\"white\",\"showbackground\":true,\"ticks\":\"\",\"zerolinecolor\":\"white\",\"gridwidth\":2},\"yaxis\":{\"backgroundcolor\":\"#E5ECF6\",\"gridcolor\":\"white\",\"linecolor\":\"white\",\"showbackground\":true,\"ticks\":\"\",\"zerolinecolor\":\"white\",\"gridwidth\":2},\"zaxis\":{\"backgroundcolor\":\"#E5ECF6\",\"gridcolor\":\"white\",\"linecolor\":\"white\",\"showbackground\":true,\"ticks\":\"\",\"zerolinecolor\":\"white\",\"gridwidth\":2}},\"shapedefaults\":{\"line\":{\"color\":\"#2a3f5f\"}},\"annotationdefaults\":{\"arrowcolor\":\"#2a3f5f\",\"arrowhead\":0,\"arrowwidth\":1},\"geo\":{\"bgcolor\":\"white\",\"landcolor\":\"#E5ECF6\",\"subunitcolor\":\"white\",\"showland\":true,\"showlakes\":true,\"lakecolor\":\"white\"},\"title\":{\"x\":0.05},\"mapbox\":{\"style\":\"light\"}}},\"xaxis\":{\"anchor\":\"y\",\"domain\":[0.0,1.0],\"title\":{\"text\":\"Month\"},\"dtick\":\"M1\",\"tickformat\":\"%b %Y\"},\"yaxis\":{\"anchor\":\"x\",\"domain\":[0.0,1.0],\"title\":{\"text\":\"Churn Rate (%)\"}},\"legend\":{\"title\":{\"text\":\"Service Name, Region\"},\"tracegroupgap\":0},\"title\":{\"text\":\"Monthly Churn Rate by Service and Region\"}},                        {\"responsive\": true}                    ).then(function(){\n",
              "                            \n",
              "var gd = document.getElementById('99b21a59-d34c-4015-88da-c214f2508a10');\n",
              "var x = new MutationObserver(function (mutations, observer) {{\n",
              "        var display = window.getComputedStyle(gd).display;\n",
              "        if (!display || display === 'none') {{\n",
              "            console.log([gd, 'removed!']);\n",
              "            Plotly.purge(gd);\n",
              "            observer.disconnect();\n",
              "        }}\n",
              "}});\n",
              "\n",
              "// Listen for the removal of the full notebook cells\n",
              "var notebookContainer = gd.closest('#notebook-container');\n",
              "if (notebookContainer) {{\n",
              "    x.observe(notebookContainer, {childList: true});\n",
              "}}\n",
              "\n",
              "// Listen for the clearing of the current output cell\n",
              "var outputEl = gd.closest('.output');\n",
              "if (outputEl) {{\n",
              "    x.observe(outputEl, {childList: true});\n",
              "}}\n",
              "\n",
              "                        })                };                            </script>        </div>\n",
              "</body>\n",
              "</html>"
            ]
          },
          "metadata": {}
        }
      ]
    },
    {
      "cell_type": "markdown",
      "source": [
        "# Task 2: Analytical Insights - Retention Strategy\n",
        "Develop SQL queries to extract insights on overall NRR, as well as NRR by Business Unit and Region.\n",
        "NRR provides insights into how well a company is growing\n",
        "its revenue from its existing customer base.\n",
        "\n",
        "$$\n",
        "\\text{Monthly NRR} = \\left( \\frac{\\text{𝐶𝑢𝑟𝑟𝑒𝑛𝑡 𝑀𝑜𝑛𝑡h 𝑆𝑎𝑎𝑆 𝑅𝑒𝑣𝑒𝑛𝑢𝑒 from existing active customers}}{\\text{𝐶𝑢𝑟𝑟𝑒𝑛𝑡 𝑀𝑜𝑛𝑡h 𝑆𝑎𝑎𝑆 𝑅𝑒𝑣𝑒𝑛𝑢𝑒 from existing active customers}} \\right) \\times 100\n",
        "$$\n",
        "\n",
        "\n",
        "- *Current Month SaaS Revenue from existing active customers* : Total SaaS revenue from\n",
        "customers that were active in the previous month\n",
        "- *Previous Month SaaS revenue from existing active customer*s : Total SaaS revenue from\n",
        "active customers last month\n",
        "  - **Note it should be the same set of customers for the numerator and denominator**"
      ],
      "metadata": {
        "id": "VcJrTDBXEN2c"
      }
    },
    {
      "cell_type": "code",
      "source": [],
      "metadata": {
        "id": "z3WGE3jtE8Cx"
      },
      "execution_count": null,
      "outputs": []
    }
  ]
}